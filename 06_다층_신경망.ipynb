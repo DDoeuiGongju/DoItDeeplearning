{
  "nbformat": 4,
  "nbformat_minor": 0,
  "metadata": {
    "colab": {
      "name": "06.다층 신경망.ipynb",
      "provenance": [],
      "collapsed_sections": [],
      "authorship_tag": "ABX9TyPghdiPpta3my+vm7p9CAgO",
      "include_colab_link": true
    },
    "kernelspec": {
      "name": "python3",
      "display_name": "Python 3"
    }
  },
  "cells": [
    {
      "cell_type": "markdown",
      "metadata": {
        "id": "view-in-github",
        "colab_type": "text"
      },
      "source": [
        "<a href=\"https://colab.research.google.com/github/DDoeuiGongju/DoItDeeplearning/blob/main/06_%EB%8B%A4%EC%B8%B5_%EC%8B%A0%EA%B2%BD%EB%A7%9D.ipynb\" target=\"_parent\"><img src=\"https://colab.research.google.com/assets/colab-badge.svg\" alt=\"Open In Colab\"/></a>"
      ]
    },
    {
      "cell_type": "markdown",
      "metadata": {
        "id": "JKxQXhL-8GEB"
      },
      "source": [
        "### 벡터화(Vectorization)\n",
        "> 넘파이, 머신러니, 딥러닝 패키지들은 다차원 배열의 연산 즉, 행렬 연산을 빠르게 수행할 수 있다. 이런 기능을 벡터화 연산이라고 한다. 이 연산을 이용하면 알고리즘의 성능을 높일 수 있다.  \n",
        "배치 경사 하강법 연산을 이용해 벡터화된 연산을 사용할 수 있다.\n",
        "- 확률적 경사 하강법: 가중치를 한 번 업데이트할 때 1개의 샘플 사용해 전역 최솟값을 불안정하게 찾는다.\n",
        "- 배치 경사 하강법: 가중치를 한 번 업데이트할 때 전체 샘플 사용해 전역 최솟값을 안정적으로 찾는다. 그러나 계산 비용이 많이 든다.\n"
      ]
    },
    {
      "cell_type": "markdown",
      "metadata": {
        "id": "vNqmMCOhAPTF"
      },
      "source": [
        "### 벡터연산과 행렬 연산\n",
        "> 스칼라 곱과 행렬 곱셈  \n",
        "- SingleLayer클래스의 forpass() \n",
        "```\n",
        "z = np.sum(x * self.w) + self.b\n",
        "```\n",
        "    - 위에서 입력과 가중치의 곱을 간단히 표현할 수 있는 이유는 numpy의 원소별 곱셈 기능 덕분이다.  \n",
        "    - x와 w는 벡터이고, 두 벡터를 곱하여 합하는 계산을 점 곱(dot product), 스칼라 곱(scalar product)이라고 부른다.\n",
        "- 점 곱을 행렬 곱셈으로 표현하면 행방향 벡터와 열 방향 벡터의 원소를 각각 곱한 후  모두 더하는 것과 같다.\n",
        "```\n",
        "z = np.dot(x, self.w) + self.b\n",
        "```\n",
        "이 행렬의 곱셈 원리를 훈련데이터 잔체 샘플에 적용해 배치 경사 하강법을 구현할 수 있다.\n",
        " \n",
        "\n"
      ]
    },
    {
      "cell_type": "markdown",
      "metadata": {
        "id": "ooQOi6s5cCfs"
      },
      "source": [
        "## SingleLayer클래스에 배치 경사 하강법 적용하기"
      ]
    },
    {
      "cell_type": "code",
      "metadata": {
        "colab": {
          "base_uri": "https://localhost:8080/"
        },
        "id": "3z0hkCfNAXmz",
        "outputId": "cde27c4e-bdf6-441a-fd48-7760380a31bb"
      },
      "source": [
        "# 위스콘신 유방암 데이터 사용\n",
        "import numpy as np\n",
        "import matplotlib.pyplot as plt\n",
        "from sklearn.datasets import load_breast_cancer\n",
        "from sklearn.model_selection import train_test_split\n",
        "\n",
        "cancer = load_breast_cancer()\n",
        "x = cancer.data\n",
        "y = cancer.target\n",
        "x_train_all, x_test, y_train_all, y_teat = train_test_split(x, y, stratify=y, test_size=0.2, random_state=42)\n",
        "x_train, x_val, y_train, y_val = train_test_split(x_train_all, y_train_all, stratify=y_train_all, test_size=0.2, random_state=42)\n",
        "\n",
        "print('훈련 셋 크기: {}    검증 셋 크기: {}'.format(x_train.shape, x_val.shape))"
      ],
      "execution_count": 2,
      "outputs": [
        {
          "output_type": "stream",
          "text": [
            "훈련 셋 크기: (364, 30)    검증 셋 크기: (91, 30)\n"
          ],
          "name": "stdout"
        }
      ]
    },
    {
      "cell_type": "code",
      "metadata": {
        "id": "f1V5xMpVd28f"
      },
      "source": [
        "# 정방향 계산을 행렬 곱으로 표현: 훈련셋과 가중치를 곱한 후 절편을 더한다.\n",
        "# 가중치 업데이트를 위한 gradient계산: 입력데이터(전치)와 오차의 곱\n",
        "\n",
        "# forpass(), backprop()에 배치 결사 하강법 적용하기\n",
        "class SingleLayer:\n",
        "    def __init__(self, learning_rate=0.1, l1=0, l2=0):  \n",
        "        self.w = None\n",
        "        self.b = None\n",
        "        self.losses = []\n",
        "        self.val_losses = []  \n",
        "        self.w_history = []      \n",
        "        self.lr = learning_rate \n",
        "        self.l1 = l1   \n",
        "        self.l2 = l2\n",
        "\n",
        "    def forpass(self, x):\n",
        "        z = np.dot(x, self.w) + self.b   # np.sum대신 행렬 곱을 해주는 np.dot함수 사용 \n",
        "        return z\n",
        "\n",
        "    def activation(self, z):     \n",
        "        a = 1 / (1 + np.exp(-z))   \n",
        "        return a\n",
        "\n",
        "    def backprop(self, x, err):\n",
        "        m = len(x)\n",
        "        w_grad = np.dot(x.T, err) / m   # 가중치에 대한 평균 gradient계산\n",
        "        b_grad = np.sum(err) / m        # 절편에 대한 평균 gradient계산\n",
        "        return w_grad, b_grad\n",
        "\n",
        "    # 배치 경사 하강법에서는 forpass(), backprop()에서 전체 샘플을 함번에 계산하므로 for문 한 개 사용\n",
        "    def fit(self, x, y, epochs=100, x_val=None, y_val=None): \n",
        "        y = y.reshape(-1, 1)           # 타깃을 열벡터로 바꾼다.\n",
        "        y_val = y_val.reshape(-1, 1)   # 검증용 타깃을 열벡터로 바꾼다.\n",
        "        m = len(x)                     # 샘플 개수 저장\n",
        "        self.w = np.ones((x.shape[1], 1))                        \n",
        "        self.b = 0\n",
        "        self.w_history.append(self.w.copy())                                                                                \n",
        "        for i in range(epochs):      \n",
        "            z = self.forpass(x)\n",
        "            a = self.activation(z)\n",
        "            err = -(y - a)\n",
        "            w_grad, b_grad = self.backprop(x, err)\n",
        "            w_grad += (self.l1 * np.sign(self.w) + self.l2 * self.w) / m  \n",
        "            self.w -= w_grad * self.lr \n",
        "            self.b -= b_grad * self.lr\n",
        "            self.w_history.append(self.w.copy()) \n",
        "            a = np.clip(a, 1e-10, 1-1e-10)                    \n",
        "            # 평균 손실을 구하기 위해 각 샘플의 손실을 더한 후 전체 샘플의 개수로 나눔\n",
        "            loss = np.sum(-(y * np.log(a) + (1 - y) * np.log(1 - a)))\n",
        "            self.losses.append((loss + self.reg_loss()) / m)    \n",
        "            self.update_val_loss(x_val, y_val)                         \n",
        "\n",
        "    def update_val_loss(self, x_val, y_val):             \n",
        "        # for문 필요 X     \n",
        "        z = self.forpass(x_val)              \n",
        "        a = self.activation(z)                                 \n",
        "        a = np.clip(a, 1e-10, 1-1e-10)                 \n",
        "        # 평균 손실을 구하기 위해 각 샘플의 손실을 더한 후 전체 샘플의 개수로 나눔               \n",
        "        val_loss = np.sum(-(y_val * np.log(a) + (1 - y_val) * np.log(1 - a)))\n",
        "        self.val_losses.append((val_loss + self.reg_loss()) / len(y_val))\n",
        "    \n",
        "    def reg_loss(self): \n",
        "        return self.l1 * np.sum(np.abs(self.w)) + self.l2 / 2 * np.sum(self.w**2)\n",
        "\n",
        "    def predict(self, x):            \n",
        "        z = self.forpass(x)   # 정방향 계산 수행(한번에 가능)\n",
        "        return z > 0                 \n",
        "    \n",
        "    def score(self, x, y):\n",
        "        return np.mean(self.predict(x) == y.reshape(-1, 1))   # 예측과 타깃의 열벡터 비교"
      ],
      "execution_count": 41,
      "outputs": []
    },
    {
      "cell_type": "code",
      "metadata": {
        "colab": {
          "base_uri": "https://localhost:8080/"
        },
        "id": "5bRjiP7qm59V",
        "outputId": "8d2ee3cd-e4ee-4ab3-a40c-401893c3bd5f"
      },
      "source": [
        "# 훈련데이터 표준화 전처리하기\n",
        "from sklearn.preprocessing import StandardScaler\n",
        "\n",
        "scaler = StandardScaler()\n",
        "scaler.fit(x_train)\n",
        "x_train_scaled = scaler.transform(x_train)\n",
        "x_val_scaled = scaler.transform(x_val)\n",
        "\n",
        "# 전처리 데이터를 SingleLayer클래스 객체에 전달해 배치 경사 하강법 적용\n",
        "single_layer = SingleLayer(l2=0.01)\n",
        "single_layer.fit(x_train_scaled, y_train, x_val=x_val_scaled, y_val=y_val, epochs=10000)\n",
        "print('성능:',single_layer.score(x_val_scaled, y_val))"
      ],
      "execution_count": 4,
      "outputs": [
        {
          "output_type": "stream",
          "text": [
            "성능: 0.978021978021978\n"
          ],
          "name": "stdout"
        }
      ]
    },
    {
      "cell_type": "markdown",
      "metadata": {
        "id": "l7EFrzJI5nrf"
      },
      "source": [
        "훈련 셋의 샘플 수가 364개 이고, 100에폭 일 때\n",
        "- 확률적 경사 하강법: 36,400번의 가중치 업데이트\n",
        "- 배치 경사 하강법: 100번 업데이트\n",
        "\n",
        "따라서, 배치 경사 하강법은 확률적 경사 하강법보다 에폭 횟수를 늘려줘야 한다."
      ]
    },
    {
      "cell_type": "code",
      "metadata": {
        "colab": {
          "base_uri": "https://localhost:8080/",
          "height": 283
        },
        "id": "RZKFZory6UVC",
        "outputId": "95fe8625-78fe-4183-b76d-62486169a0bc"
      },
      "source": [
        "# 검증 셋으로 선능 측정하고 그래프로 비교\n",
        "plt.ylim(0, 0.3)\n",
        "plt.plot(single_layer.losses)\n",
        "plt.plot(single_layer.val_losses)\n",
        "plt.xlabel('loss')\n",
        "plt.ylabel('epoch')\n",
        "plt.legend(['train_loss', 'val_loss'])\n",
        "plt.show()"
      ],
      "execution_count": 5,
      "outputs": [
        {
          "output_type": "display_data",
          "data": {
            "image/png": "[encoded data removed]",
            "text/plain": [
              "<Figure size 432x288 with 1 Axes>"
            ]
          },
          "metadata": {
            "tags": [],
            "needs_background": "light"
          }
        }
      ]
    },
    {
      "cell_type": "markdown",
      "metadata": {
        "id": "9_d-jsi36_rP"
      },
      "source": [
        "출력된 검증 셋의 점수는 05장과 동일하나 손실값이 안정적으로 감소  \n",
        "- 05장의 손실값 변화\n",
        "\n",
        "![image.png](data:image/png;base64,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)\n"
      ]
    },
    {
      "cell_type": "code",
      "metadata": {
        "colab": {
          "base_uri": "https://localhost:8080/",
          "height": 279
        },
        "id": "RaBfhsXe7k3i",
        "outputId": "b3233c1a-451c-42e0-99dd-84754c9477bf"
      },
      "source": [
        "w2 = []\n",
        "w3 = []\n",
        "for w in single_layer.w_history:\n",
        "    w2.append(w[2])\n",
        "    w3.append(w[3])\n",
        "plt.plot(w2, w3)\n",
        "plt.plot(w2[-1], w3[-1], 'ro')\n",
        "plt.xlabel('w2')\n",
        "plt.ylabel('w3')\n",
        "plt.show()"
      ],
      "execution_count": 6,
      "outputs": [
        {
          "output_type": "display_data",
          "data": {
            "image/png": "[encoded data removed]",
            "text/plain": [
              "<Figure size 432x288 with 1 Axes>"
            ]
          },
          "metadata": {
            "tags": [],
            "needs_background": "light"
          }
        }
      ]
    },
    {
      "cell_type": "markdown",
      "metadata": {
        "id": "NLye36Kqf3Sz"
      },
      "source": [
        "가중치의 변화가 연속적이어서 손실값도 안정적으로 수렴한다. 하지만 매번 전체 훈련셋을 사용해 연산비용이 많이 들고 최솟값에 수렴하는데 시간이 많이 걸린다."
      ]
    },
    {
      "cell_type": "markdown",
      "metadata": {
        "id": "4hQ42A2DgmGu"
      },
      "source": [
        "### 하나의 층에 여러 개의 뉴런\n",
        "> 입력층에서 전달되는 특성이 각 뉴런에 모두 전달된다. 뉴런의 수만큼 출력이 나온다.\n",
        "- 가중치 행렬의 크기는 (입력 개수x출력 개수(뉴런의 수)이다.\n",
        "- XW1 + b1 = Z1  (W1: 첫번째 층의 가중치 행렬, b1: 절편. 일차원 배열)\n",
        "### 출력을 하나로\n",
        "> 이진 분류 문제는 각 뉴런에서 출력된 값을 하나의 뉴런으로 다시 모아야 한다. 앞서 나온 출력값을 활성화 함수에 통과시킨 활성화 출력을  마지막 뉴런에 입력해 하나의 출력을 낸다.\n",
        "- A1W2 + b2 =Z2\n",
        "\n",
        "\n",
        "이렇게 2개의 뉴런과 2개의 층을 가진 신경망이 만들어졌다. 입력값이 모여있는 입력층은 층의 개수에 포함하지 않는다.입력층의 값들은 은닉층을 통과한 후 출력층을 통과해 하나의 값으로 출력된다.\n",
        "\n",
        "### 다층 신경망\n",
        "> n개의 입력이 m개의 뉴런으로 입력되고, 은닉층을 통과한 값들은 다시 출력층으로 모인다. 이것이 바로 딥러닝이다.\n",
        "- 주의사항  \n",
        "    1) 활성화 함수는 층마다 다를 수 있지만 같은 층에서는 같아야 한다.  \n",
        "    2) 모든 뉴런이 연결되어 있으면 '완전 연결 신경망(fully-connected network)'이라고 한다.  \n",
        "    - 완전 연결 신경망을 모든 뉴런이 연결되어 있으므로 데이터의 입력이 고정되어 있어야 한다.\n",
        "- 경사하강법 적용: W2와 b2 그리고 W1과 b1에 대한 손실함수L의 도함수를 구해야 한다. 이거에 대해 수식이 있기는 한디 아리송송송해~!\n",
        "    1. 출력층: 가중치에 대해 손실함수를 미분\n",
        "    2. 출력층: 도함수를 곱함\n",
        "    3. 출력층: 정편에 대해 손실함수를 마분\n",
        "    4. 은닉층: 가중치에 대해 손실함수를 미분\n",
        "    5. 은닉층: 도함수를 곱함\n",
        "    6. 절편에 대해 손실함수를 미분하고 도함수를 곱함"
      ]
    },
    {
      "cell_type": "markdown",
      "metadata": {
        "id": "6JnUSTTct-rw"
      },
      "source": [
        "## 2개의 층을 가진 신경망 구현하기\n",
        "- SingleLayer클래스를 상속하여 DualLayer클래스를 만들고 필요한 메서드만 재정의"
      ]
    },
    {
      "cell_type": "code",
      "metadata": {
        "id": "ueXe-sePuSm3"
      },
      "source": [
        "class DualLayer(SingleLayer):\n",
        "    def __init__(self, units=10, learning_rate=0.1, l1=0, l2=0):\n",
        "        self.units = units         # 은닉층의 뉴런 개수\n",
        "        self.w1 = None             # 은닉층의 가중치\n",
        "        self.b1 = None             # 은닉층의 절편\n",
        "        self.w2 = None             # 출력층의 가중치\n",
        "        self.b2 = None             # 출력층의 절편\n",
        "        self.a1 = None             # 은닉층의 활성화 출력: 역방향 계산에 필요\n",
        "        self.losses = []           # 훈련 손실\n",
        "        self.val_losses = []       # 검증 손실\n",
        "        self.lr = learning_rate    # 학습률\n",
        "        self.l1 = l1               # L1 loss 하이퍼파라미터\n",
        "        self.l2 = l2               # L2 loss 하이퍼파라미터\n",
        "        # 가중치 변화 기록 X\n",
        "    \n",
        "    def forpass(self, x):                          # 은닉층과 출력층의 정방향 계산\n",
        "        z1 = np.dot(x, self.w1) + self.b1         # 첫 번째 층의 선형식 계산\n",
        "        self.a1 = self.activation(z1)             # 활성화 함수 적용\n",
        "        z2 = np.dot(self.a1, self.w2) + self.b2   # 두 번째 층의 선형식 계산\n",
        "        return z2\n",
        "    \n",
        "    def backprop(self, x, err):\n",
        "        m = len(x)   # 샘플 개수\n",
        "        # 출력층의 가중치, 절편에 대한 gradient의 평균 계산\n",
        "        w2_grad = np.dot(self.a1.T, err) / m\n",
        "        b2_grad = np.sum(err) / m\n",
        "        # 은닉층의 gradient를 쉽게 구하기 위해 시그모이드 함수 gradient계산\n",
        "        err_to_hidden = np.dot(err, self.w2.T) * self.a1 * (1 - self.a1)\n",
        "        # 은닉층의 가중치, 절편에 대한 gradient의 평균 계산\n",
        "        w1_grad = np.dot(x.T, err_to_hidden) / m\n",
        "        b1_grad = np.sum(err_to_hidden, axis=0) / m\n",
        "        return w1_grad, b1_grad, w2_grad, b2_grad\n",
        "\n",
        "    # fit()메서드를 3개로 분리\n",
        "    # 가중치, 절편 초기화: 이에 따라 학습률, 학습 속도가 달라짐\n",
        "    def init_weights(self, n_features):\n",
        "        self.w1 = np.ones((n_features, self.units))   # (특성 개수, 은닉층 뉴런의 개수(크기))\n",
        "        self.b1 = np.zeros(self.units)                # 은닉층의 크기\n",
        "        self.w2 = np.ones((self.units, 1))            # (은닉층의 크기, 1)\n",
        "        self.b2 = 0\n",
        "    \n",
        "    # 2. 에폭마다 정방향 계산해 오차 계산하고 오차를 역전파해 가중치와 절편의 gradient계산\n",
        "    def fit(self, x, y, epochs=100, x_val=None, y_val=None):\n",
        "        y = y.reshape(-1, 1)            # 타깃을 열벡터로\n",
        "        y_val = y_val.reshape(-1, 1)\n",
        "        m = len(x)                      # 샘플 수 저장\n",
        "        self.init_weights(x.shape[1])   # 은닉층과 출력층의 가중치, 절편 초기화\n",
        "        for i in range(epochs):\n",
        "            a = self.training(x, y, m)\n",
        "            a = np.clip(a, 1e-10, 1-1e-10)\n",
        "            # 로그 손실값과 규제 손실값 더해 리스트에 추가\n",
        "            loss = np.sum(-(y * np.log(a) + (1 - y) * np.log(1 - a)))\n",
        "            self.losses.append((loss + self.reg_loss()) / m)\n",
        "            # 검증 셋에 대한 손실 계산\n",
        "            self.update_val_loss(x_val, y_val)\n",
        "\n",
        "    def training(self, x, y, m):   # 정방향 계산과 gradient 업데이트\n",
        "        z = self.forpass(x)        # 정방향 계산\n",
        "        a = self.activation(z)     # 활성화 함수 적용\n",
        "        err = -(y - a)             # 오차 계산\n",
        "        # 오차를 역전파해 gradient계산\n",
        "        w1_grad, b1_grad, w2_grad, b2_grad = self.backprop(x, err)\n",
        "        # gradient에서 패널티항의 미분값을 뺌\n",
        "        w1_grad += (self.l1 * np.sign(self.w1) + self.l2 * self.w1) / m\n",
        "        w2_grad += (self.l1 * np.sign(self.w2) + self.l2 * self.w2) / m\n",
        "        # 은닉층의 가중치와 절편 업데이트\n",
        "        self.w1 -= self.lr * w1_grad\n",
        "        self.b1 -= self.lr * b1_grad\n",
        "        # 출력층의 가중치와 절편 업데이트\n",
        "        self.w2 -= self.lr * w2_grad\n",
        "        self.b2 -= self.lr * b2_grad\n",
        "        return a\n",
        "\n",
        "    def reg_loss(self): \n",
        "        # 은닉층과 출력층의 가중치에 대한 L1loss, L2loss 계산\n",
        "        return self.l1 * (np.sum(np.abs(self.w1)) + np.sum(np.abs(self.w2))) + \\\n",
        "               self.l2 / 2 * (np.sum(self.w1**2) + np.sum(self.w2**2))"
      ],
      "execution_count": 46,
      "outputs": []
    },
    {
      "cell_type": "code",
      "metadata": {
        "colab": {
          "base_uri": "https://localhost:8080/"
        },
        "id": "a7j4_Tv2tohg",
        "outputId": "bc0a8f8a-03c9-423f-8ffe-c67da0a86f86"
      },
      "source": [
        "# 다층 신경망 모델 훈련하고 평가하기\n",
        "dual_layer = DualLayer(l2=0.01)\n",
        "dual_layer.fit(x_train_scaled, y_train, x_val=x_val_scaled, y_val=y_val, epochs=20000)\n",
        "print('성능:', dual_layer.score(x_val_scaled, y_val))"
      ],
      "execution_count": 47,
      "outputs": [
        {
          "output_type": "stream",
          "text": [
            "성능: 0.978021978021978\n"
          ],
          "name": "stdout"
        }
      ]
    },
    {
      "cell_type": "markdown",
      "metadata": {
        "id": "xLkxFnTCz1on"
      },
      "source": [
        "해결하려는 문제가 간단하고 데이터셋의 크기가 작으므로 평가 점수가 단일 신경망과 비슷하다."
      ]
    },
    {
      "cell_type": "code",
      "metadata": {
        "colab": {
          "base_uri": "https://localhost:8080/",
          "height": 283
        },
        "id": "BiUBi1EouRN2",
        "outputId": "f8833b67-84bf-4120-87c5-c02d6805eb09"
      },
      "source": [
        "# 훈련 손실과 검증 손실 그래프 분석하기\n",
        "plt.ylim(0, 0.3)\n",
        "plt.plot(dual_layer.losses)\n",
        "plt.plot(dual_layer.val_losses)\n",
        "plt.xlabel('loss')\n",
        "plt.ylabel('epoch')\n",
        "plt.legend(['train_loss', 'val_loss'])\n",
        "plt.show()"
      ],
      "execution_count": 48,
      "outputs": [
        {
          "output_type": "display_data",
          "data": {
            "image/png": "[encoded data removed]",
            "text/plain": [
              "<Figure size 432x288 with 1 Axes>"
            ]
          },
          "metadata": {
            "tags": [],
            "needs_background": "light"
          }
        }
      ]
    },
    {
      "cell_type": "markdown",
      "metadata": {
        "id": "TuHIupDtAIzx"
      },
      "source": [
        "- 훈련 손실 그래프: 훈련데이터로 손실 함수의 최솟값을 찾아가는 과정을 보여줌\n",
        "- 검증 손실 그래프: 검증데이터로 손실 함수의 최솟값을 찾아가는 과정을 보여줌  \n",
        "\n",
        "\n",
        "SingleLayer보다 가중치의 개수가 많아져 학습하는데 시간이 오래 걸리므로 손실그래프가 천천히 감소한다.  \n",
        "\n",
        "위스콘신 유방암 데이터의 특성은 30개이므로 SingleLayer를 사용했을 떄는 가중치 30개와 절편 1개가 필요했다. DualLayer는 은닉층은 뉴런이 10개 이므로 30X10개의 가중치와 10개의 절편이 필요하고 출력층은 10개의 가중치와 1개의 절편이 필요하다. 즉, 321개의 가중치를 학습해야한다.  \n",
        "\n",
        "손실 함수가 감소하는 방향을 찾는 데 오래 걸려 초기 손실값 감소가 매끄럽지 않다. 이는 가중치 초기화와 관련이 깊다. 여태까지는 초깃 값을 1로 지정했으나 random.nomal()함수를 사용해 초기화해 볼 것이다.\n",
        "- random.nomal(평균, 표준 편차, 배열 크기)"
      ]
    },
    {
      "cell_type": "code",
      "metadata": {
        "id": "2UwwvtUBCSQ1"
      },
      "source": [
        "class RandomInitNetwork(DualLayer):\n",
        "    def init_weights(self, n_features):\n",
        "        np.random.seed(42)   # 균일한 출력값을 얻기 위해 랜덤값의 초깃값 고정\n",
        "        self.w1 = np.random.normal(0, 1, (n_features, self.units))   # (특성 개수, 은닉층 크기)\n",
        "        self.b1 = np.zeros(self.units)                               # 은닉층 크기\n",
        "        self.w2 = np.random.normal(0, 1, (self.units, 1))            # (은닉층 크기, 1)\n",
        "        self.b2 = 0"
      ],
      "execution_count": 49,
      "outputs": []
    },
    {
      "cell_type": "code",
      "metadata": {
        "colab": {
          "base_uri": "https://localhost:8080/",
          "height": 297
        },
        "id": "V846D7TMDkpq",
        "outputId": "ef6b9e9d-4439-4508-a63e-bf293609e630"
      },
      "source": [
        "random_init_net = RandomInitNetwork(l2=0.01)\n",
        "random_init_net.fit(x_train_scaled, y_train, x_val=x_val_scaled, y_val=y_val, epochs=500)\n",
        "print('성능:', random_init_net.score(x_val_scaled, y_val))\n",
        "# 훈련 손실과 검증 손실 그래프 분석하기\n",
        "plt.plot(random_init_net.losses)\n",
        "plt.plot(random_init_net.val_losses)\n",
        "plt.xlabel('loss')\n",
        "plt.ylabel('epoch')\n",
        "plt.legend(['train_loss', 'val_loss'])\n",
        "plt.show()"
      ],
      "execution_count": 59,
      "outputs": [
        {
          "output_type": "stream",
          "text": [
            "성능: 0.978021978021978\n"
          ],
          "name": "stdout"
        },
        {
          "output_type": "display_data",
          "data": {
            "image/png": "[encoded data removed]",
            "text/plain": [
              "<Figure size 432x288 with 1 Axes>"
            ]
          },
          "metadata": {
            "tags": [],
            "needs_background": "light"
          }
        }
      ]
    },
    {
      "cell_type": "markdown",
      "metadata": {
        "id": "-MoSghJ_Fenv"
      },
      "source": [
        "손실함수의 감소가 매끄럽고 빠르게 손실함수 값이 줄어든다. 그러나 훈련하는데 많은 시간이 소요된다. "
      ]
    },
    {
      "cell_type": "markdown",
      "metadata": {
        "id": "MAdFFyMRFywE"
      },
      "source": [
        "## 미니 배치 경사 하강법\n",
        "> 배치 경사 하강법과 유사하지만 에폭마다 전체 데이터를 사용하지 않고 제곱수 크기(16,32,64..)로 나눈 미니 배치만틈 정방향 계산을 수행하고 gradient를 구해 가중치를 업데이트 한다.\n",
        "- 미니 배치 크기가 1이면 확률적 경사 하강법, 전체 데이터 크기면 배치 경사 하강법\n",
        "- 미니 배치의 최적값은 정해진 것이 아니고 하이퍼파라미터이며 튜닝의 대상\n",
        "\n",
        "\n",
        "-  generator: 순차적으로 데이터에 접근할 수 있는 반복가능한 객체(iterator) 반환한다. 리스트 없이 필요한 만큼 데이터 추출할 수 있어 메모리 효육적으로 사용한다. 일반 함수에 yield문을 사용해 구현한다.  \n",
        " - yield: return과 비슷하지만 값 반환 후 정지한다. 그 함수를 다시 실행시키면 정지 위치부터 다시 시작한다."
      ]
    },
    {
      "cell_type": "code",
      "metadata": {
        "id": "C1e2y03oEFer"
      },
      "source": [
        "# 미니 배치 경사 하강법 구현\n",
        "class MinibatchNetwork(RandomInitNetwork):\n",
        "    \n",
        "    def __init__(self, units=10, batch_size=32, learning_rate=0.1, l1=0, l2=0):\n",
        "        # 직접 관리할 것을 제외하고 RandomInitNetwork의 __init__로 전달(DualLayer)\n",
        "        super().__init__(units, learning_rate, l1, l2) \n",
        "        self.batch_size = batch_size                     # 배치 크기\n",
        "    \n",
        "    def fit(self, x, y, epochs=100, x_val=None, y_val=None):\n",
        "        y_val = y_val.reshape(-1, 1)            \n",
        "        self.init_weights(x.shape[1])\n",
        "        np.random.seed(42)\n",
        "        for i in range(epochs):\n",
        "            loss = 0                               # 손실 누적을 위해 초기화\n",
        "            # 제너레이터 함수에서 반환한 미니 배치를 순환\n",
        "            for x_batch, y_batch in self.gen_batch(x, y):\n",
        "                y_batch = y_batch.reshape(-1, 1)   # 타깃을 열 벡터로\n",
        "                m = len(x_batch)                   # 샘플 개수 저장\n",
        "                a = self.training(x_batch, y_batch, m)\n",
        "                a = np.clip(a, 1e-10, 1-1e-10)\n",
        "                # 로그 손실값과 규제 손실값 더해 리스트에 추가\n",
        "                loss += np.sum(-(y_batch * np.log(a) + (1 - y_batch) * np.log(1 - a)))\n",
        "            self.losses.append((loss + self.reg_loss()) / len(x))\n",
        "            # 검증 셋에 대한 손실 계산\n",
        "            self.update_val_loss(x_val, y_val)\n",
        "\n",
        "    # generator. 매 에폭마다 호출.\n",
        "    def gen_batch(self, x, y):\n",
        "        length = len(x)\n",
        "        bins = length // self.batch_size   # 미니 배치 횟수, //: 나누고 소수점 버림\n",
        "        if length % self.batch_size:       # 나누어 떨어지지 않으면\n",
        "            bins += 1                      # 올림 하는 것 처럼~!\n",
        "        # np.random.permutation(n): n까지의 무작위 배열 생성\n",
        "        # 미니배치가 똑같은 순서로 반복되지 않게 하기 위해 배열의 인덱스 섞음\n",
        "        indexes = np.random.permutation(np.arange(len(x)))\n",
        "        x = x[indexes]\n",
        "        y = y[indexes]\n",
        "        for i in range(bins):\n",
        "            start = self.batch_size * i\n",
        "            end = self.batch_size * (i + 1)\n",
        "            yield x[start:end], y[start:end]"
      ],
      "execution_count": 64,
      "outputs": []
    },
    {
      "cell_type": "code",
      "metadata": {
        "colab": {
          "base_uri": "https://localhost:8080/",
          "height": 297
        },
        "id": "SVUKu7YGpxDN",
        "outputId": "17e694ad-9645-4800-c285-c692c6d09a42"
      },
      "source": [
        "minibatch_net = MinibatchNetwork(l2=0.01, batch_size=32)\n",
        "minibatch_net.fit(x_train_scaled, y_train, x_val=x_val_scaled, y_val=y_val, epochs=500)\n",
        "print('32미니 배치 성능:',minibatch_net.score(x_val_scaled, y_val))\n",
        "\n",
        "plt.plot(minibatch_net.losses)\n",
        "plt.plot(minibatch_net.val_losses)\n",
        "plt.ylabel('loss')\n",
        "plt.xlabel('iteration')\n",
        "plt.legend(['train_loss', 'val_loss'])\n",
        "plt.show()"
      ],
      "execution_count": 66,
      "outputs": [
        {
          "output_type": "stream",
          "text": [
            "32미니 배치 성능: 0.978021978021978\n"
          ],
          "name": "stdout"
        },
        {
          "output_type": "display_data",
          "data": {
            "image/png": "[encoded data removed]",
            "text/plain": [
              "<Figure size 432x288 with 1 Axes>"
            ]
          },
          "metadata": {
            "tags": [],
            "needs_background": "light"
          }
        }
      ]
    },
    {
      "cell_type": "markdown",
      "metadata": {
        "id": "w6_i6NWO00nn"
      },
      "source": [
        "배치 경사 하강법보다 수렴 속도가 빨라졌다."
      ]
    },
    {
      "cell_type": "code",
      "metadata": {
        "colab": {
          "base_uri": "https://localhost:8080/",
          "height": 297
        },
        "id": "oko-kvo8qIJQ",
        "outputId": "d0b00a31-7344-44a1-c317-dd9a729d74e3"
      },
      "source": [
        "minibatch_net = MinibatchNetwork(l2=0.01, batch_size=128)\n",
        "minibatch_net.fit(x_train_scaled, y_train, x_val=x_val_scaled, y_val=y_val, epochs=500)\n",
        "print('128미니 배치 성능:',minibatch_net.score(x_val_scaled, y_val))\n",
        "\n",
        "plt.plot(minibatch_net.losses)\n",
        "plt.plot(minibatch_net.val_losses)\n",
        "plt.ylabel('loss')\n",
        "plt.xlabel('iteration')\n",
        "plt.legend(['train_loss', 'val_loss'])\n",
        "plt.show()"
      ],
      "execution_count": 67,
      "outputs": [
        {
          "output_type": "stream",
          "text": [
            "128미니 배치 성능: 0.978021978021978\n"
          ],
          "name": "stdout"
        },
        {
          "output_type": "display_data",
          "data": {
            "image/png": "[encoded data removed]",
            "text/plain": [
              "<Figure size 432x288 with 1 Axes>"
            ]
          },
          "metadata": {
            "tags": [],
            "needs_background": "light"
          }
        }
      ]
    },
    {
      "cell_type": "markdown",
      "metadata": {
        "id": "YENBP28h1KeI"
      },
      "source": [
        "미니 배치 크기를 늘렸더니 손실 그래프는 안정적으로 바뀌었으나 손실값이 줄어드는 속도는 느려졌다."
      ]
    },
    {
      "cell_type": "markdown",
      "metadata": {
        "id": "qNw66Lhs1qhS"
      },
      "source": [
        "## 사이킷런 사용해 다층 신경망 구현\n",
        "> sklearn.neural_network모듈\n",
        "- 분류작업: MLPClassifier  \n",
        " - hidden_layer_sizes: 은닉층의 수와 뉴런의 수 ex)(10, )=한 개의 은닉층, 10개의 뉴런\n",
        " - activation: 은닉층의 활성화 함수. 기본값은 ReLU. 시그모이드 함수는 logistic\n",
        " - solver: 경사 하강법 알고리즘의 종류. 기본값은 확률적 경사 하강법인 sgd\n",
        " - alpha: L2규제의 양(L1규제 지원X)\n",
        " - max_iter: 에폭\n",
        "- 회귀작업: MLPRegressor\n"
      ]
    },
    {
      "cell_type": "code",
      "metadata": {
        "colab": {
          "base_uri": "https://localhost:8080/"
        },
        "id": "Q_EPgVik2LwS",
        "outputId": "6ae49341-8400-43d8-f716-838b0f9cede5"
      },
      "source": [
        "from sklearn.neural_network import MLPClassifier\n",
        "mlp = MLPClassifier(hidden_layer_sizes=(10, ), activation='logistic', \n",
        "                    solver='sgd', alpha=0.01, batch_size=32, \n",
        "                    learning_rate_init=0.1, max_iter=500)\n",
        "mlp.fit(x_train_scaled, y_train)\n",
        "print('sklearn을 이용한 다층 신경망 성능',mlp.score(x_val_scaled, y_val))"
      ],
      "execution_count": 68,
      "outputs": [
        {
          "output_type": "stream",
          "text": [
            "sklearn을 이용한 다층 신경망 성능 0.989010989010989\n"
          ],
          "name": "stdout"
        }
      ]
    }
  ]
}