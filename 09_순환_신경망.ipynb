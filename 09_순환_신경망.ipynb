{
  "nbformat": 4,
  "nbformat_minor": 0,
  "metadata": {
    "colab": {
      "name": "09.순환 신경망.ipynb",
      "provenance": [],
      "collapsed_sections": [],
      "authorship_tag": "ABX9TyNowon04Jc/YmbiAbR09wfY",
      "include_colab_link": true
    },
    "kernelspec": {
      "name": "python3",
      "display_name": "Python 3"
    }
  },
  "cells": [
    {
      "cell_type": "markdown",
      "metadata": {
        "id": "view-in-github",
        "colab_type": "text"
      },
      "source": [
        "<a href=\"https://colab.research.google.com/github/DDoeuiGongju/DoItDeeplearning/blob/main/09_%EC%88%9C%ED%99%98_%EC%8B%A0%EA%B2%BD%EB%A7%9D.ipynb\" target=\"_parent\"><img src=\"https://colab.research.google.com/assets/colab-badge.svg\" alt=\"Open In Colab\"/></a>"
      ]
    },
    {
      "cell_type": "markdown",
      "metadata": {
        "id": "mbP-yQ9hQr2f"
      },
      "source": [
        "## 순차 데이터와 순환 신경망\r\n",
        "\r\n",
        "### 순차 데이터\r\n",
        "- 순차 데이터: 샘플에 순서가 있는 데이터\r\n",
        "    - 스텝: 모델에서 순차 데이터를 처리하는 각 단계\r\n",
        "- 종류\r\n",
        "    - 텍스트: 대표적인 순차 데이터\r\n",
        "    - 시계열 데이터: 순차 데이터로 일정 시간 간격으로 배치된 데이터 \r\n",
        "- 완전 연결 신경망이나 합성곱 신경망은 이전의 샘플에 대한 정보를 유지하지 않고, 현재 샘플 처리 시 이전의 샘플을 고려하지 않는다.\r\n",
        "    - 이러한 문제를 해결하기 위해 순환 신경망 개발 \r\n",
        "\r\n",
        "### 순환 신경망\r\n",
        "- 순환 신경망: 뉴런의 출력이 순환되는 신경망으로 은닉층의 출력이 다시 은닉층의 입력으로 사용된다.\r\n",
        "- 층이나 뉴런을 셀이라 부른다. 셀의 출력을 은닉 상태(hidden state)라 부른다. 현재의 은닉 상태를 계산하기 위해 이전 다음 스텝의 은닉 상태를 사용한다.\r\n",
        "- 셀에서 수행되는 계산은 지금까지 공부한 정방향 계산에서 이전 타임 스텝의 은닉 상태와 곱하는 가중치가 하나 더 추가된 것이다.\r\n",
        "- 활성화 함수로 Hyperbolic tangent함수가 많이 사용된다.\r\n",
        "\r\n",
        "\r\n",
        "**<순환층의 정방향 계산>**  \r\n",
        "- $ Z = XW_x + H_pW_h + b $  \r\n",
        "X=입력, H=은닉상태, W_x W_h=가중치, b=절편\r\n",
        "- $ H = tanh(Z) $  \r\n",
        "\r\n",
        "**<출력층의 정발향 계산>**\r\n",
        "- $ Z = HW + b $\r\n",
        "- $ A = sigmoid(Z) $\r\n",
        "\r\n",
        "**<역방향 계산>**\r\n",
        "- https://www.youtube.com/watch?v=iAv6yA7hv2o  \r\n",
        "14:50~24:30 내용 참고\r\n",
        "\r\n"
      ]
    },
    {
      "cell_type": "markdown",
      "metadata": {
        "id": "-AKYCKzv5nfE"
      },
      "source": [
        "### 순환 신경망으로 텍스트 분류\r\n",
        "- IMDB dataset: 인터넷 영화 DB에서 수집란 영화 리뷰 데이터\r\n",
        "- 리뷰가 긍정인지 부정인지 판별하는 이진 분류 문제 해결"
      ]
    },
    {
      "cell_type": "code",
      "metadata": {
        "colab": {
          "base_uri": "https://localhost:8080/"
        },
        "id": "kGFkrp8t6tNT",
        "outputId": "df1c2763-aae0-414f-d52e-1373d540973b"
      },
      "source": [
        "# 1. 텐서플로우에서 IMDB불러오기\r\n",
        "import numpy as np\r\n",
        "from tensorflow.keras.datasets import imdb\r\n",
        "\r\n",
        "# skip_top: 가장 많이 등장한 단어들 중 건너뛸 단어 개수\r\n",
        "# num_words: 훈련에 사용할 단어 개수\r\n",
        "(x_train_all, y_train_all), (x_test, y_test) = imdb.load_data(skip_top=20, num_words=100)"
      ],
      "execution_count": 8,
      "outputs": [
        {
          "output_type": "stream",
          "text": [
            "<string>:6: VisibleDeprecationWarning: Creating an ndarray from ragged nested sequences (which is a list-or-tuple of lists-or-tuples-or ndarrays with different lengths or shapes) is deprecated. If you meant to do this, you must specify 'dtype=object' when creating the ndarray\n",
            "/usr/local/lib/python3.6/dist-packages/tensorflow/python/keras/datasets/imdb.py:159: VisibleDeprecationWarning: Creating an ndarray from ragged nested sequences (which is a list-or-tuple of lists-or-tuples-or ndarrays with different lengths or shapes) is deprecated. If you meant to do this, you must specify 'dtype=object' when creating the ndarray\n",
            "  x_train, y_train = np.array(xs[:idx]), np.array(labels[:idx])\n",
            "/usr/local/lib/python3.6/dist-packages/tensorflow/python/keras/datasets/imdb.py:160: VisibleDeprecationWarning: Creating an ndarray from ragged nested sequences (which is a list-or-tuple of lists-or-tuples-or ndarrays with different lengths or shapes) is deprecated. If you meant to do this, you must specify 'dtype=object' when creating the ndarray\n",
            "  x_test, y_test = np.array(xs[idx:]), np.array(labels[idx:])\n"
          ],
          "name": "stderr"
        }
      ]
    },
    {
      "cell_type": "code",
      "metadata": {
        "colab": {
          "base_uri": "https://localhost:8080/"
        },
        "id": "I8n51Ymw7TsV",
        "outputId": "9800c07e-373e-48d4-db3f-dbc43bf769cb"
      },
      "source": [
        "print(x_train_all.shape, y_train_all.shape)"
      ],
      "execution_count": 9,
      "outputs": [
        {
          "output_type": "stream",
          "text": [
            "(25000,) (25000,)\n"
          ],
          "name": "stdout"
        }
      ]
    },
    {
      "cell_type": "code",
      "metadata": {
        "colab": {
          "base_uri": "https://localhost:8080/"
        },
        "id": "cSfri0BL_EDM",
        "outputId": "1ec42ce6-3e56-49cf-a0b1-114b156029bf"
      },
      "source": [
        "# 샘플의 정수는 영단어를 고유한 정수에 1:1대응한 BoW(Bag of Word)이다.\r\n",
        "# 가장 많이 등하는 영단어 20개를 건너뛰고 100개의 단어만 선택했으므로 BoW에 없는 단어를 의미하는 2가 많다.\r\n",
        "print(x_train_all[0])"
      ],
      "execution_count": 10,
      "outputs": [
        {
          "output_type": "stream",
          "text": [
            "[2, 2, 22, 2, 43, 2, 2, 2, 2, 65, 2, 2, 66, 2, 2, 2, 36, 2, 2, 25, 2, 43, 2, 2, 50, 2, 2, 2, 35, 2, 2, 2, 2, 2, 2, 2, 2, 2, 2, 2, 39, 2, 2, 2, 2, 2, 2, 38, 2, 2, 2, 2, 50, 2, 2, 2, 2, 2, 2, 22, 2, 2, 2, 2, 2, 22, 71, 87, 2, 2, 43, 2, 38, 76, 2, 2, 2, 2, 22, 2, 2, 2, 2, 2, 2, 2, 2, 2, 62, 2, 2, 2, 2, 2, 2, 2, 2, 2, 2, 2, 2, 66, 2, 33, 2, 2, 2, 2, 38, 2, 2, 25, 2, 51, 36, 2, 48, 25, 2, 33, 2, 22, 2, 2, 28, 77, 52, 2, 2, 2, 2, 82, 2, 2, 2, 2, 2, 2, 2, 2, 2, 2, 2, 2, 2, 2, 36, 71, 43, 2, 2, 26, 2, 2, 46, 2, 2, 2, 2, 2, 2, 88, 2, 2, 2, 2, 98, 32, 2, 56, 26, 2, 2, 2, 2, 2, 2, 2, 22, 21, 2, 2, 26, 2, 2, 2, 30, 2, 2, 51, 36, 28, 2, 92, 25, 2, 2, 2, 65, 2, 38, 2, 88, 2, 2, 2, 2, 2, 2, 2, 2, 32, 2, 2, 2, 2, 2, 32]\n"
          ],
          "name": "stdout"
        }
      ]
    },
    {
      "cell_type": "code",
      "metadata": {
        "colab": {
          "base_uri": "https://localhost:8080/"
        },
        "id": "es1kBaug_t2L",
        "outputId": "22fb05ee-1bd2-405e-9707-5953e4cd8b90"
      },
      "source": [
        "# 2. 훈련셋에서 2 제외하기\r\n",
        "for i in range(len(x_train_all)):\r\n",
        "    x_train_all[i] = [w for w in x_train_all[i] if w > 2]\r\n",
        "\r\n",
        "print(x_train_all[0])"
      ],
      "execution_count": 11,
      "outputs": [
        {
          "output_type": "stream",
          "text": [
            "[22, 43, 65, 66, 36, 25, 43, 50, 35, 39, 38, 50, 22, 22, 71, 87, 43, 38, 76, 22, 62, 66, 33, 38, 25, 51, 36, 48, 25, 33, 22, 28, 77, 52, 82, 36, 71, 43, 26, 46, 88, 98, 32, 56, 26, 22, 21, 26, 30, 51, 36, 28, 92, 25, 65, 38, 88, 32, 32]\n"
          ],
          "name": "stdout"
        }
      ]
    }
  ]
}