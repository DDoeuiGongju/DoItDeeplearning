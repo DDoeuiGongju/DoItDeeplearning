{
  "nbformat": 4,
  "nbformat_minor": 0,
  "metadata": {
    "colab": {
      "name": "09.순환 신경망.ipynb",
      "provenance": [],
      "authorship_tag": "ABX9TyOdKXz3jHO4jib5LfU0H4ML",
      "include_colab_link": true
    },
    "kernelspec": {
      "name": "python3",
      "display_name": "Python 3"
    }
  },
  "cells": [
    {
      "cell_type": "markdown",
      "metadata": {
        "id": "view-in-github",
        "colab_type": "text"
      },
      "source": [
        "<a href=\"https://colab.research.google.com/github/DDoeuiGongju/DoItDeeplearning/blob/main/09_%EC%88%9C%ED%99%98_%EC%8B%A0%EA%B2%BD%EB%A7%9D.ipynb\" target=\"_parent\"><img src=\"https://colab.research.google.com/assets/colab-badge.svg\" alt=\"Open In Colab\"/></a>"
      ]
    },
    {
      "cell_type": "markdown",
      "metadata": {
        "id": "mbP-yQ9hQr2f"
      },
      "source": [
        "## 순차 데이터와 순환 신경망\r\n",
        "\r\n",
        "---\r\n",
        "\r\n",
        "### 순차 데이터\r\n",
        "- 순차 데이터: 샘플에 순서가 있는 데이터\r\n",
        "    - 스텝: 모델에서 순차 데이터를 처리하는 각 단계\r\n",
        "- 종류\r\n",
        "    - 텍스트: 대표적인 순차 데이터\r\n",
        "    - 시계열 데이터: 순차 데이터로 일정 시간 간격으로 배치된 데이터 \r\n",
        "- 완전 연결 신경망이나 합성곱 신경망은 이전의 샘플에 대한 정보를 유지하지 않고, 현재 샘플 처리 시 이전의 샘플을 고려하지 않는다.\r\n",
        "    - 이러한 문제를 해결하기 위해 순환 신경망 개발 \r\n",
        "\r\n",
        "### 순환 신경망\r\n",
        "- 순환 신경망: 뉴런의 출력이 순환되는 신경망으로 은닉층의 출력이 다시 은닉층의 입력으로 사용된다.\r\n",
        "- 층이나 뉴런을 셀이라 부른다. 셀의 출력을 은닉 상태(hidden state)라 부른다. 현재의 은닉 상태를 계산하기 위해 이전 다음 스텝의 은닉 상태를 사용한다.\r\n",
        "- 셀에서 수행되는 계산은 지금까지 공부한 정방향 계산에서 이전 타임 스텝의 은닉 상태와 곱하는 가중치가 하나 더 추가된 것이다.\r\n",
        "- 활성화 함수로 Hyperbolic tangent함수가 많이 사용된다.\r\n",
        "> 정방향 계산: \r\n",
        "\r\n"
      ]
    }
  ]
}