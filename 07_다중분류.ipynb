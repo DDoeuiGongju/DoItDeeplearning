{
  "nbformat": 4,
  "nbformat_minor": 0,
  "metadata": {
    "colab": {
      "name": "07.다중분류.ipynb",
      "provenance": [],
      "collapsed_sections": [
        "AbxS3P0sG_m4",
        "Y9LSJEpbFDrd"
      ],
      "authorship_tag": "ABX9TyP8LQ9+PviGPWFy61elpSBJ",
      "include_colab_link": true
    },
    "kernelspec": {
      "name": "python3",
      "display_name": "Python 3"
    }
  },
  "cells": [
    {
      "cell_type": "markdown",
      "metadata": {
        "id": "view-in-github",
        "colab_type": "text"
      },
      "source": [
        "<a href=\"https://colab.research.google.com/github/DDoeuiGongju/DoItDeeplearning/blob/main/07_%EB%8B%A4%EC%A4%91%EB%B6%84%EB%A5%98.ipynb\" target=\"_parent\"><img src=\"https://colab.research.google.com/assets/colab-badge.svg\" alt=\"Open In Colab\"/></a>"
      ]
    },
    {
      "cell_type": "markdown",
      "metadata": {
        "id": "sg2kr6mN6EMK"
      },
      "source": [
        "## 다중 분류 신경망\n",
        "> 다중 분류 신경망을 만들기 위해서 소프트맥스(softmax) 함수와 크로스 엔트로피(cross-entropy) 손실 함수를 알아야 한다.  \n",
        "이진 분류는 출력층에 뉴런을 하나만 두었다. 다중 분류는 출력층에 분류할 클래스 개수 만큼 뉴런을 놓는다.\n",
        "\n",
        "> ### 소프트 맥스 함수\n",
        "- 다중 분류의 문제점: 활성화 출력의 합이 1이 아니면 비교가 어렵다. 즉, 같은 스케일이 아니면 공정하게 비교하기 어렵다는 것이다.\n",
        "- 해결 방법: 소프트맥스 함수를 적용해 출력 강도 정규화 → 전체 출력값의 합을 1로   \n",
        "$\\frac{e^{z_i}}{e^{z_1}+e^{z_i}+...+e^{z_n}} = \\frac{e^{z_i}}{\\sum_{i=1}^n{e^{z_i}}}$  \n",
        "    - ${z_i}$: 출력층의 각 뉴런에서 계산된 선형 출력, $e$: 자연 상수, $n$: 클래스 수   \n",
        "\n",
        "> ### 크로스 엔트로피 손실 함수    \n",
        "다중 분류에서 출력층을 통과한 값들은 소프트맥스 함수를 거치며 적절한 확률값으로 변한다. 이 확률값을 이용해 가중지와 절편을 업데이트 하기 위한 손실 함수는 로지스틱 손실 함수의 일반화 버전인 크로스 엔트로피 함수!\n",
        "- 크로스 엔트로피 손실 함수  \n",
        "  $L=-\\sum_{c=1}^cy_clog(a_c)=-log(a_{y=1})$\n",
        "    - $c$: 전체 클래스 개수, $a_{y=1}$: 정답 클래스에 해당하는 뉴런의 활성화 출력\n",
        "    - 분류 문제에서 정답클래스의 타깃은 1이고 나머지는 0이므로 나멎 클래스에 대한 손실 항은 모두 소거\n",
        "- 로지스틱 손실 함수  \n",
        "  $L=-(ylog(a)+(1-y)log(1-a))$  \n",
        "→ 로지스틱 손실 함수는 크로스 엔트로피 손실 함수의 합 기호를 빼고 양성 클래스와 음성 클래스에 대해 나누어 놓은 것\n",
        "- 크로스 엔크로피 손실 함수 미분\n",
        "    - 하나의 샘플에 대한 손실 함수의 미분을 유도\n",
        "    - z에 대해 미분하면 로지스틱 손실 함수의 미분과 정확히 일치  \n",
        "      → 04장에서 구현한 backword()그대로 사용"
      ]
    },
    {
      "cell_type": "markdown",
      "metadata": {
        "id": "AbxS3P0sG_m4"
      },
      "source": [
        "## 다중 분류 신경망 구현\n",
        "- MinibatchNetwork클래스 확장해 다중 분류를 수행하는 MultiClassNetwork클래스 구현\n",
        "1. 소프트맥스 함수 추가: activation()의 이름을 sigmoid()로 바꾸고 softmax() 추가  \n",
        "np.exp(z): $z$ 의 각 원소를 $e^z$ 로 만들어줌  \n",
        "np.sum().reshape: $z$의 각 행의 합 계산 후 열벡터로 바꿔 나눈셈에 적용할 수 있도록 함\n",
        "\n",
        "2. 정방향 계산: forpass()에 사용된 activation()이름을 sigmoid()로 바꿔줌 \n",
        "\n",
        "3. 가중치 초기화: 출력층의 뉴런이 2개 이상이므로 가중치 w2의 크기는 (은닉층 뉴런 개수, 클래스 개수), b2의 크기는 클래스 개수 따라 지정\n",
        "\n",
        "4. fit() 메서드 수정: 가중치 초기화 시 클래수의 개수를 넘겨줌, 다중 분류 문제에서 y, y_val은 2차원 행렬이므로 열벡터 변환 토드 삭제\n",
        "\n",
        "5. training() 메서드 수정: 출력층의 활성화 함수를  activation()에서 softmax()로 바꿈\n",
        "\n",
        "6. predict() 메서드 수정: 정방향 계산에서 얻은 출력 중 가장 큰 값의 인덱스 구함. 이 값이 예측 클래스가 됨\n",
        "\n",
        "7. score() 메서드 수정: predict()메서드의 결과와  타깃 y의 클래스 비교\n",
        "\n",
        "8. 검증 손실 계산: update_val_loss() 메서드의 활성화 함수를 softmax()로 바꾸고, 로지스팃 손실 계산을 크로스 엔트로피 손실 계산으로 바꿈"
      ]
    },
    {
      "cell_type": "code",
      "metadata": {
        "id": "EQmn5Gf3HSS1"
      },
      "source": [
        "# 1. 소프트맥스 함수 추가\n",
        "\n",
        "class MultiClassNetwork:\n",
        "    def __init__(self, units=10, batch_size=32, learning_rate=0.1, l1=0, l2=0):\n",
        "        self.units = units         # 은닉층의 뉴런 개수\n",
        "        self.batch_size = batch_size\n",
        "        self.w1 = None             # 은닉층의 가중치\n",
        "        self.b1 = None             # 은닉층의 절편\n",
        "        self.w2 = None             # 출력층의 가중치\n",
        "        self.b2 = None             # 출력층의 절편\n",
        "        self.a1 = None             # 은닉층의 활성화 출력: 역방향 계산에 필요\n",
        "        self.losses = []           # 훈련 손실\n",
        "        self.val_losses = []       # 검증 손실\n",
        "        self.lr = learning_rate    # 학습률\n",
        "        self.l1 = l1               # L1 loss 하이퍼파라미터\n",
        "        self.l2 = l2               # L2 loss 하이퍼파라미터\n",
        "\n",
        "    def backprop(self, x, err):\n",
        "        m = len(x) \n",
        "\n",
        "        w2_grad = np.dot(self.a1.T, err) / m\n",
        "        b2_grad = np.sum(err) / m\n",
        "        \n",
        "        err_to_hidden = np.dot(err, self.w2.T) * self.a1 * (1 - self.a1)\n",
        "        \n",
        "        w1_grad = np.dot(x.T, err_to_hidden) / m\n",
        "        b1_grad = np.sum(err_to_hidden, axis=0) / m\n",
        "        return w1_grad, b1_grad, w2_grad, b2_grad\n",
        "\n",
        "    def forpass(self, x):                         \n",
        "        z1 = np.dot(x, self.w1) + self.b1   \n",
        "        self.a1 = self.sigmoid(z1)           \n",
        "        z2 = np.dot(self.a1, self.w2) + self.b2   \n",
        "        return z2\n",
        "    \n",
        "    def sigmoid(self, z):\n",
        "        a = 1 / (1 + np.exp(-z))\n",
        "        return a\n",
        "        \n",
        "    def softmax(self, z):\n",
        "        exp_z = np.exp(z)\n",
        "        return exp_z / np.sum(exp_z, axis=1).reshape(-1, 1)\n",
        "    \n",
        "    def init_weights(self, n_features, n_classes):\n",
        "        np.random.seed(42)  \n",
        "        self.w1 = np.random.normal(0, 1, (n_features, self.units))  \n",
        "        self.b1 = np.zeros(self.units)                               \n",
        "        self.w2 = np.random.normal(0, 1, (self.units, n_classes))   \n",
        "        self.b2 = np.zeros(n_classes)\n",
        "\n",
        "    def fit(self, x, y, epochs=100, x_val=None, y_val=None):          \n",
        "        self.init_weights(x.shape[1], y.shape[1])\n",
        "        np.random.seed(42)\n",
        "        for i in range(epochs):\n",
        "            loss = 0\n",
        "            print('.', end='')   # 편의상 훈련의 진행 상황을 볼 수 있도록\n",
        "            for x_batch, y_batch in self.gen_batch(x, y):           \n",
        "                a = self.training(x_batch, y_batch)\n",
        "                a = np.clip(a, 1e-10, 1-1e-10)\n",
        "                loss += np.sum(-y_batch * np.log(a))\n",
        "            self.losses.append((loss + self.reg_loss()) / len(x))\n",
        "            self.update_val_loss(x_val, y_val)\n",
        "\n",
        "    # generator. 매 에폭마다 호출.\n",
        "    def gen_batch(self, x, y):\n",
        "        length = len(x)\n",
        "        bins = length // self.batch_size \n",
        "        if length % self.batch_size:  \n",
        "            bins += 1  \n",
        "        indexes = np.random.permutation(np.arange(len(x)))\n",
        "        x = x[indexes]\n",
        "        y = y[indexes]\n",
        "        for i in range(bins):\n",
        "            start = self.batch_size * i\n",
        "            end = self.batch_size * (i + 1)\n",
        "            yield x[start:end], y[start:end]   # batch size만큼 슬라이싱하여 반환\n",
        "    \n",
        "    def training(self, x, y):  \n",
        "        m = len(x)\n",
        "        z = self.forpass(x)    \n",
        "        a = self.softmax(z)    \n",
        "        err = -(y - a)         \n",
        "        w1_grad, b1_grad, w2_grad, b2_grad = self.backprop(x, err)\n",
        "        w1_grad += (self.l1 * np.sign(self.w1) + self.l2 * self.w1) / m\n",
        "        w2_grad += (self.l1 * np.sign(self.w2) + self.l2 * self.w2) / m\n",
        "        # 은닉층의 가중치와 절편 업데이트\n",
        "        self.w1 -= self.lr * w1_grad\n",
        "        self.b1 -= self.lr * b1_grad\n",
        "        # 출력층의 가중치와 절편 업데이트\n",
        "        self.w2 -= self.lr * w2_grad\n",
        "        self.b2 -= self.lr * b2_grad\n",
        "        return a\n",
        "\n",
        "    def predict(self, x):\n",
        "        z = self.forpass(x)\n",
        "        return np.argmax(z, axis=1)   # 최대값의 인덱스\n",
        "    \n",
        "    def score(self, x, y):\n",
        "        # 예측과 타깃 열 벡터를 비교해 True의 비율 반환\n",
        "        return np.mean(self.predict(x) == np. argmax(y, axis=1))\n",
        "\n",
        "    def reg_loss(self):     \n",
        "        # 은닉층과 출력층의 가중치에 대한 가중치 규제 적용\n",
        "        return self.l1 * (np.sum(np.abs(self.w1)) + np.sum(np.abs(self.w2))) + \\\n",
        "               self.l2 / 2 * (np.sum(self.w1**2) + np.sum(self.w2**2))\n",
        "\n",
        "    def update_val_loss(self, x_val, y_val):    \n",
        "        z = self.forpass(x_val)              \n",
        "        a = self.softmax(z)                                 \n",
        "        a = np.clip(a, 1e-10, 1-1e-10)                         \n",
        "        val_loss = np.sum(-y_val * np.log(a))   # 크로스 엔트로피 손실\n",
        "        self.val_losses.append((val_loss + self.reg_loss()) / len(y_val))"
      ],
      "execution_count": 2,
      "outputs": []
    },
    {
      "cell_type": "markdown",
      "metadata": {
        "id": "Y9LSJEpbFDrd"
      },
      "source": [
        "## 의류 이미지 분류\r\n",
        "> MultiClassNetwork를 사용해 의류 이미지를 분류하는 다중 분류 문제 해결.\r\n",
        "- 사용한 데이터 셋: Fashion MNIST dataset\r\n",
        " - 10개의 손글씨 숫자 이미지로 구성된 MNIST dataset을 대신해 최근 딥러닝에 널리 사용\r\n"
      ]
    },
    {
      "cell_type": "code",
      "metadata": {
        "colab": {
          "base_uri": "https://localhost:8080/",
          "height": 0
        },
        "id": "7orI_8fIGLOn",
        "outputId": "f4b0734b-8078-4082-cc4e-b58d3cbfc92b"
      },
      "source": [
        "!pip install tensorflow_gpu==2.0.0-rc2"
      ],
      "execution_count": 3,
      "outputs": [
        {
          "output_type": "stream",
          "text": [
            "Collecting tensorflow_gpu==2.0.0-rc2\n",
            "\u001b[?25l  Downloading https://files.pythonhosted.org/packages/37/71/ebe308ba37bd2d4d56c436fb5baa846260d74ef1d6392d370bd1adee424e/tensorflow_gpu-2.0.0rc2-cp36-cp36m-manylinux2010_x86_64.whl (380.8MB)\n",
            "\u001b[K     |████████████████████████████████| 380.8MB 43kB/s \n",
            "\u001b[?25hCollecting gast==0.2.2\n",
            "  Downloading https://files.pythonhosted.org/packages/4e/35/11749bf99b2d4e3cceb4d55ca22590b0d7c2c62b9de38ac4a4a7f4687421/gast-0.2.2.tar.gz\n",
            "Requirement already satisfied: wheel>=0.26 in /usr/local/lib/python3.6/dist-packages (from tensorflow_gpu==2.0.0-rc2) (0.36.2)\n",
            "Requirement already satisfied: keras-preprocessing>=1.0.5 in /usr/local/lib/python3.6/dist-packages (from tensorflow_gpu==2.0.0-rc2) (1.1.2)\n",
            "Requirement already satisfied: termcolor>=1.1.0 in /usr/local/lib/python3.6/dist-packages (from tensorflow_gpu==2.0.0-rc2) (1.1.0)\n",
            "Collecting keras-applications>=1.0.8\n",
            "\u001b[?25l  Downloading https://files.pythonhosted.org/packages/71/e3/19762fdfc62877ae9102edf6342d71b28fbfd9dea3d2f96a882ce099b03f/Keras_Applications-1.0.8-py3-none-any.whl (50kB)\n",
            "\u001b[K     |████████████████████████████████| 51kB 5.7MB/s \n",
            "\u001b[?25hRequirement already satisfied: protobuf>=3.6.1 in /usr/local/lib/python3.6/dist-packages (from tensorflow_gpu==2.0.0-rc2) (3.12.4)\n",
            "Requirement already satisfied: google-pasta>=0.1.6 in /usr/local/lib/python3.6/dist-packages (from tensorflow_gpu==2.0.0-rc2) (0.2.0)\n",
            "Requirement already satisfied: astor>=0.6.0 in /usr/local/lib/python3.6/dist-packages (from tensorflow_gpu==2.0.0-rc2) (0.8.1)\n",
            "Collecting tensorboard<2.1.0,>=2.0.0\n",
            "\u001b[?25l  Downloading https://files.pythonhosted.org/packages/76/54/99b9d5d52d5cb732f099baaaf7740403e83fe6b0cedde940fabd2b13d75a/tensorboard-2.0.2-py3-none-any.whl (3.8MB)\n",
            "\u001b[K     |████████████████████████████████| 3.8MB 41.0MB/s \n",
            "\u001b[?25hRequirement already satisfied: numpy<2.0,>=1.16.0 in /usr/local/lib/python3.6/dist-packages (from tensorflow_gpu==2.0.0-rc2) (1.19.5)\n",
            "Requirement already satisfied: six>=1.10.0 in /usr/local/lib/python3.6/dist-packages (from tensorflow_gpu==2.0.0-rc2) (1.15.0)\n",
            "Requirement already satisfied: wrapt>=1.11.1 in /usr/local/lib/python3.6/dist-packages (from tensorflow_gpu==2.0.0-rc2) (1.12.1)\n",
            "Collecting tf-estimator-nightly<1.14.0.dev2019080602,>=1.14.0.dev2019080601\n",
            "\u001b[?25l  Downloading https://files.pythonhosted.org/packages/21/28/f2a27a62943d5f041e4a6fd404b2d21cb7c59b2242a4e73b03d9ba166552/tf_estimator_nightly-1.14.0.dev2019080601-py2.py3-none-any.whl (501kB)\n",
            "\u001b[K     |████████████████████████████████| 501kB 48.4MB/s \n",
            "\u001b[?25hRequirement already satisfied: opt-einsum>=2.3.2 in /usr/local/lib/python3.6/dist-packages (from tensorflow_gpu==2.0.0-rc2) (3.3.0)\n",
            "Requirement already satisfied: grpcio>=1.8.6 in /usr/local/lib/python3.6/dist-packages (from tensorflow_gpu==2.0.0-rc2) (1.32.0)\n",
            "Requirement already satisfied: absl-py>=0.7.0 in /usr/local/lib/python3.6/dist-packages (from tensorflow_gpu==2.0.0-rc2) (0.10.0)\n",
            "Requirement already satisfied: h5py in /usr/local/lib/python3.6/dist-packages (from keras-applications>=1.0.8->tensorflow_gpu==2.0.0-rc2) (2.10.0)\n",
            "Requirement already satisfied: setuptools in /usr/local/lib/python3.6/dist-packages (from protobuf>=3.6.1->tensorflow_gpu==2.0.0-rc2) (51.3.3)\n",
            "Requirement already satisfied: requests<3,>=2.21.0 in /usr/local/lib/python3.6/dist-packages (from tensorboard<2.1.0,>=2.0.0->tensorflow_gpu==2.0.0-rc2) (2.23.0)\n",
            "Requirement already satisfied: google-auth-oauthlib<0.5,>=0.4.1 in /usr/local/lib/python3.6/dist-packages (from tensorboard<2.1.0,>=2.0.0->tensorflow_gpu==2.0.0-rc2) (0.4.2)\n",
            "Requirement already satisfied: markdown>=2.6.8 in /usr/local/lib/python3.6/dist-packages (from tensorboard<2.1.0,>=2.0.0->tensorflow_gpu==2.0.0-rc2) (3.3.3)\n",
            "Requirement already satisfied: google-auth<2,>=1.6.3 in /usr/local/lib/python3.6/dist-packages (from tensorboard<2.1.0,>=2.0.0->tensorflow_gpu==2.0.0-rc2) (1.17.2)\n",
            "Requirement already satisfied: werkzeug>=0.11.15 in /usr/local/lib/python3.6/dist-packages (from tensorboard<2.1.0,>=2.0.0->tensorflow_gpu==2.0.0-rc2) (1.0.1)\n",
            "Requirement already satisfied: idna<3,>=2.5 in /usr/local/lib/python3.6/dist-packages (from requests<3,>=2.21.0->tensorboard<2.1.0,>=2.0.0->tensorflow_gpu==2.0.0-rc2) (2.10)\n",
            "Requirement already satisfied: chardet<4,>=3.0.2 in /usr/local/lib/python3.6/dist-packages (from requests<3,>=2.21.0->tensorboard<2.1.0,>=2.0.0->tensorflow_gpu==2.0.0-rc2) (3.0.4)\n",
            "Requirement already satisfied: certifi>=2017.4.17 in /usr/local/lib/python3.6/dist-packages (from requests<3,>=2.21.0->tensorboard<2.1.0,>=2.0.0->tensorflow_gpu==2.0.0-rc2) (2020.12.5)\n",
            "Requirement already satisfied: urllib3!=1.25.0,!=1.25.1,<1.26,>=1.21.1 in /usr/local/lib/python3.6/dist-packages (from requests<3,>=2.21.0->tensorboard<2.1.0,>=2.0.0->tensorflow_gpu==2.0.0-rc2) (1.24.3)\n",
            "Requirement already satisfied: requests-oauthlib>=0.7.0 in /usr/local/lib/python3.6/dist-packages (from google-auth-oauthlib<0.5,>=0.4.1->tensorboard<2.1.0,>=2.0.0->tensorflow_gpu==2.0.0-rc2) (1.3.0)\n",
            "Requirement already satisfied: importlib-metadata; python_version < \"3.8\" in /usr/local/lib/python3.6/dist-packages (from markdown>=2.6.8->tensorboard<2.1.0,>=2.0.0->tensorflow_gpu==2.0.0-rc2) (3.4.0)\n",
            "Requirement already satisfied: cachetools<5.0,>=2.0.0 in /usr/local/lib/python3.6/dist-packages (from google-auth<2,>=1.6.3->tensorboard<2.1.0,>=2.0.0->tensorflow_gpu==2.0.0-rc2) (4.2.1)\n",
            "Requirement already satisfied: rsa<5,>=3.1.4; python_version >= \"3\" in /usr/local/lib/python3.6/dist-packages (from google-auth<2,>=1.6.3->tensorboard<2.1.0,>=2.0.0->tensorflow_gpu==2.0.0-rc2) (4.7)\n",
            "Requirement already satisfied: pyasn1-modules>=0.2.1 in /usr/local/lib/python3.6/dist-packages (from google-auth<2,>=1.6.3->tensorboard<2.1.0,>=2.0.0->tensorflow_gpu==2.0.0-rc2) (0.2.8)\n",
            "Requirement already satisfied: oauthlib>=3.0.0 in /usr/local/lib/python3.6/dist-packages (from requests-oauthlib>=0.7.0->google-auth-oauthlib<0.5,>=0.4.1->tensorboard<2.1.0,>=2.0.0->tensorflow_gpu==2.0.0-rc2) (3.1.0)\n",
            "Requirement already satisfied: zipp>=0.5 in /usr/local/lib/python3.6/dist-packages (from importlib-metadata; python_version < \"3.8\"->markdown>=2.6.8->tensorboard<2.1.0,>=2.0.0->tensorflow_gpu==2.0.0-rc2) (3.4.0)\n",
            "Requirement already satisfied: typing-extensions>=3.6.4; python_version < \"3.8\" in /usr/local/lib/python3.6/dist-packages (from importlib-metadata; python_version < \"3.8\"->markdown>=2.6.8->tensorboard<2.1.0,>=2.0.0->tensorflow_gpu==2.0.0-rc2) (3.7.4.3)\n",
            "Requirement already satisfied: pyasn1>=0.1.3 in /usr/local/lib/python3.6/dist-packages (from rsa<5,>=3.1.4; python_version >= \"3\"->google-auth<2,>=1.6.3->tensorboard<2.1.0,>=2.0.0->tensorflow_gpu==2.0.0-rc2) (0.4.8)\n",
            "Building wheels for collected packages: gast\n",
            "  Building wheel for gast (setup.py) ... \u001b[?25l\u001b[?25hdone\n",
            "  Created wheel for gast: filename=gast-0.2.2-cp36-none-any.whl size=7540 sha256=67917570c01d29cb19a0595efee71eb02d3e88349552e40f44b1a11ba8240eaa\n",
            "  Stored in directory: /root/.cache/pip/wheels/5c/2e/7e/a1d4d4fcebe6c381f378ce7743a3ced3699feb89bcfbdadadd\n",
            "Successfully built gast\n",
            "\u001b[31mERROR: tensorflow 2.4.1 has requirement gast==0.3.3, but you'll have gast 0.2.2 which is incompatible.\u001b[0m\n",
            "\u001b[31mERROR: tensorflow 2.4.1 has requirement tensorboard~=2.4, but you'll have tensorboard 2.0.2 which is incompatible.\u001b[0m\n",
            "\u001b[31mERROR: tensorflow-probability 0.12.1 has requirement gast>=0.3.2, but you'll have gast 0.2.2 which is incompatible.\u001b[0m\n",
            "Installing collected packages: gast, keras-applications, tensorboard, tf-estimator-nightly, tensorflow-gpu\n",
            "  Found existing installation: gast 0.3.3\n",
            "    Uninstalling gast-0.3.3:\n",
            "      Successfully uninstalled gast-0.3.3\n",
            "  Found existing installation: tensorboard 2.4.1\n",
            "    Uninstalling tensorboard-2.4.1:\n",
            "      Successfully uninstalled tensorboard-2.4.1\n",
            "Successfully installed gast-0.2.2 keras-applications-1.0.8 tensorboard-2.0.2 tensorflow-gpu-2.0.0rc2 tf-estimator-nightly-1.14.0.dev2019080601\n"
          ],
          "name": "stdout"
        },
        {
          "output_type": "display_data",
          "data": {
            "application/vnd.colab-display-data+json": {
              "pip_warning": {
                "packages": [
                  "gast",
                  "tensorboard",
                  "tensorflow"
                ]
              }
            }
          },
          "metadata": {
            "tags": []
          }
        }
      ]
    },
    {
      "cell_type": "code",
      "metadata": {
        "colab": {
          "base_uri": "https://localhost:8080/",
          "height": 0
        },
        "id": "AJqAaIctGu_V",
        "outputId": "07ab9f21-00dd-4ebf-aeef-825cc2edb3d3"
      },
      "source": [
        "import tensorflow as tf\r\n",
        "tf.__version__   # 텐서플로 버전 확인"
      ],
      "execution_count": 4,
      "outputs": [
        {
          "output_type": "execute_result",
          "data": {
            "application/vnd.google.colaboratory.intrinsic+json": {
              "type": "string"
            },
            "text/plain": [
              "'2.4.1'"
            ]
          },
          "metadata": {
            "tags": []
          },
          "execution_count": 4
        }
      ]
    },
    {
      "cell_type": "code",
      "metadata": {
        "id": "k-wWjBTqG-fY",
        "colab": {
          "base_uri": "https://localhost:8080/"
        },
        "outputId": "bb99152c-3eb6-41b8-f697-e99baf72e4c5"
      },
      "source": [
        "# fashion MNIST dataset 불러오기\r\n",
        "(x_train_all, y_train_all), (x_test, y_test) = tf.keras.datasets.fashion_mnist.load_data()"
      ],
      "execution_count": 5,
      "outputs": [
        {
          "output_type": "stream",
          "text": [
            "Downloading data from https://storage.googleapis.com/tensorflow/tf-keras-datasets/train-labels-idx1-ubyte.gz\n",
            "32768/29515 [=================================] - 0s 0us/step\n",
            "Downloading data from https://storage.googleapis.com/tensorflow/tf-keras-datasets/train-images-idx3-ubyte.gz\n",
            "26427392/26421880 [==============================] - 0s 0us/step\n",
            "Downloading data from https://storage.googleapis.com/tensorflow/tf-keras-datasets/t10k-labels-idx1-ubyte.gz\n",
            "8192/5148 [===============================================] - 0s 0us/step\n",
            "Downloading data from https://storage.googleapis.com/tensorflow/tf-keras-datasets/t10k-images-idx3-ubyte.gz\n",
            "4423680/4422102 [==============================] - 0s 0us/step\n"
          ],
          "name": "stdout"
        }
      ]
    },
    {
      "cell_type": "code",
      "metadata": {
        "colab": {
          "base_uri": "https://localhost:8080/"
        },
        "id": "dMzt_aGDHUVs",
        "outputId": "fa921ae4-bc52-4451-974e-9642b969bd39"
      },
      "source": [
        "# x_train_all.shape: (데이터 개수, 의류 이미지 크기)\r\n",
        "# y_train_all.shape: target이 들어있는 1차원 배열. 0~9로 클래스 10개\r\n",
        "print(x_train_all.shape, y_train_all.shape)"
      ],
      "execution_count": 6,
      "outputs": [
        {
          "output_type": "stream",
          "text": [
            "(60000, 28, 28) (60000,)\n"
          ],
          "name": "stdout"
        }
      ]
    },
    {
      "cell_type": "code",
      "metadata": {
        "colab": {
          "base_uri": "https://localhost:8080/",
          "height": 0
        },
        "id": "xd_bXdLVIHAZ",
        "outputId": "1ae988fb-3c9e-4f62-d530-8815406847a5"
      },
      "source": [
        "# 샘플 이미지 확인\r\n",
        "import matplotlib.pyplot as plt\r\n",
        "plt.imshow(x_train_all[0], cmap='gray')\r\n",
        "plt.show()"
      ],
      "execution_count": 7,
      "outputs": [
        {
          "output_type": "display_data",
          "data": {
            "image/png": "[encoded data removed]",
            "text/plain": [
              "<Figure size 432x288 with 1 Axes>"
            ]
          },
          "metadata": {
            "tags": [],
            "needs_background": "light"
          }
        }
      ]
    },
    {
      "cell_type": "code",
      "metadata": {
        "id": "qsiRyFslIf42",
        "colab": {
          "base_uri": "https://localhost:8080/"
        },
        "outputId": "906bc506-c518-4238-f6f0-2bda7cfd44c4"
      },
      "source": [
        "# 타깃의 내용과 의미 확인\r\n",
        "# y_train_alll: 0~9까지의 정수로 이루어진 클래스 레이블\r\n",
        "print(y_train_all[:10])\r\n",
        "# 각 레이블의 의미\r\n",
        "class_names = ['티셔츠/윗도리', '바지', '스웨터', '드레스', '코트',\r\n",
        "               '샌들', '셔츠', '스니커즈', '가방', '앵클부츠']\r\n",
        "print(class_names[y_train_all[0]])"
      ],
      "execution_count": 8,
      "outputs": [
        {
          "output_type": "stream",
          "text": [
            "[9 0 0 3 0 2 7 2 5 5]\n",
            "앵클부츠\n"
          ],
          "name": "stdout"
        }
      ]
    },
    {
      "cell_type": "code",
      "metadata": {
        "colab": {
          "base_uri": "https://localhost:8080/"
        },
        "id": "h9MhLvbp6-Kh",
        "outputId": "5364dca6-7b20-4b0e-a016-906c503f4407"
      },
      "source": [
        "# 타깃 분포 확인하기\r\n",
        "# 훈련셋의 타깃 값들이 고르게 분포됐는지 확인\r\n",
        "import numpy as np\r\n",
        "\r\n",
        "np.bincount(y_train_all)"
      ],
      "execution_count": 9,
      "outputs": [
        {
          "output_type": "execute_result",
          "data": {
            "text/plain": [
              "array([6000, 6000, 6000, 6000, 6000, 6000, 6000, 6000, 6000, 6000])"
            ]
          },
          "metadata": {
            "tags": []
          },
          "execution_count": 9
        }
      ]
    },
    {
      "cell_type": "code",
      "metadata": {
        "colab": {
          "base_uri": "https://localhost:8080/"
        },
        "id": "nwPi4ulFMXSC",
        "outputId": "54739e3d-9433-415e-a3b6-10bcbca17d0b"
      },
      "source": [
        "# 훈련셋과 검증셋 고르게 나누기\r\n",
        "from sklearn.model_selection import train_test_split\r\n",
        "x_train, x_val, y_train, y_val = train_test_split(x_train_all, y_train_all,\r\n",
        "                                                  stratify=y_train_all, test_size=0.2, random_state=42)\r\n",
        "print(np.bincount(y_train))\r\n",
        "print(np.bincount(y_val))"
      ],
      "execution_count": 10,
      "outputs": [
        {
          "output_type": "stream",
          "text": [
            "[4800 4800 4800 4800 4800 4800 4800 4800 4800 4800]\n",
            "[1200 1200 1200 1200 1200 1200 1200 1200 1200 1200]\n"
          ],
          "name": "stdout"
        }
      ]
    },
    {
      "cell_type": "code",
      "metadata": {
        "colab": {
          "base_uri": "https://localhost:8080/"
        },
        "id": "P0G3ULkmODwj",
        "outputId": "0c5da390-ce81-48ae-8079-67b3eba99978"
      },
      "source": [
        "# 입력 데이터 0~255사이의 픽셀값을 0~1사이로 정규화\r\n",
        "x_train = x_train / 255\r\n",
        "x_val = x_val / 255\r\n",
        "\r\n",
        "# 훈련셋과 검증셋 차원 변경\r\n",
        "# 훈련셋과 검증셋의 2, 3번째 차원(이미지 픽셀)을 합치고 펼침\r\n",
        "x_train = x_train.reshape(-1, 784)\r\n",
        "x_val = x_val.reshape(-1, 784)\r\n",
        "print(x_train.shape, x_val.shape)"
      ],
      "execution_count": 11,
      "outputs": [
        {
          "output_type": "stream",
          "text": [
            "(48000, 784) (12000, 784)\n"
          ],
          "name": "stdout"
        }
      ]
    },
    {
      "cell_type": "markdown",
      "metadata": {
        "id": "_XTGWGT2Psj_"
      },
      "source": [
        "### 타깃 데이터를 준비하고 다중 분류 신경망 훈련\r\n",
        "> 데이터셋은 10개의 클래스로 구성되어있다. 그러나 y_train, y_val에 저장된 값들은 0~9 사이의 정수값 하나로 출력뉴런(10개여야 함)에 대응되지 않는다. 그러므로 이에 맞게 타깃데이터를 변경해야 한다.\r\n",
        "1. 타깃을 **원-핫 인코딩(one-hot encoding)**으로 변환\r\n",
        "    - 타깃값 1개 → 길이가 10인 배열\r\n",
        "    - 타깃의 정수값에 해당하는 원소 = 1, 나머지 = 0\r\n",
        "2. 배열의 각 원소를 뉴런의 출력값과 비교\r\n",
        "    - 가장 큰 출력값의 인덱스가 타깃과 동일한지 비교\r\n"
      ]
    },
    {
      "cell_type": "code",
      "metadata": {
        "colab": {
          "base_uri": "https://localhost:8080/"
        },
        "id": "dZYm0JlhPZBh",
        "outputId": "09c6b6c6-6793-4db6-a741-fc652b248b1e"
      },
      "source": [
        "# 원-핫 인코딩 예제\r\n",
        "tf.keras.utils.to_categorical([0, 1, 3])"
      ],
      "execution_count": 12,
      "outputs": [
        {
          "output_type": "execute_result",
          "data": {
            "text/plain": [
              "array([[1., 0., 0., 0.],\n",
              "       [0., 1., 0., 0.],\n",
              "       [0., 0., 0., 1.]], dtype=float32)"
            ]
          },
          "metadata": {
            "tags": []
          },
          "execution_count": 12
        }
      ]
    },
    {
      "cell_type": "code",
      "metadata": {
        "colab": {
          "base_uri": "https://localhost:8080/"
        },
        "id": "wEvGGiTDRy5h",
        "outputId": "c03bdd04-8db8-481c-dd14-25cea3e6bb0d"
      },
      "source": [
        "y_train_encoded = tf.keras.utils.to_categorical(y_train)\r\n",
        "y_val_encoded = tf.keras.utils.to_categorical(y_val)\r\n",
        "\r\n",
        "print(y_train_encoded.shape, y_val_encoded.shape)\r\n",
        "print(y_train[0], y_train_encoded[0])"
      ],
      "execution_count": 13,
      "outputs": [
        {
          "output_type": "stream",
          "text": [
            "(48000, 10) (12000, 10)\n",
            "6 [0. 0. 0. 0. 0. 0. 1. 0. 0. 0.]\n"
          ],
          "name": "stdout"
        }
      ]
    },
    {
      "cell_type": "code",
      "metadata": {
        "colab": {
          "base_uri": "https://localhost:8080/"
        },
        "id": "T6xVagyOSU96",
        "outputId": "f40bfeee-ef0b-40d2-d588-71ce82932534"
      },
      "source": [
        "# MultiClassNetwork 클래스로 다중 분류 신경망 훈련\r\n",
        "fc = MultiClassNetwork(units=100, batch_size=256)\r\n",
        "fc.fit(x_train, y_train_encoded,\r\n",
        "       x_val=x_val, y_val=y_val_encoded, epochs=40)"
      ],
      "execution_count": 14,
      "outputs": [
        {
          "output_type": "stream",
          "text": [
            "........................................"
          ],
          "name": "stdout"
        }
      ]
    },
    {
      "cell_type": "code",
      "metadata": {
        "colab": {
          "base_uri": "https://localhost:8080/",
          "height": 0
        },
        "id": "kRQl498xS_Pa",
        "outputId": "9a29d827-a1e3-4971-b08b-cc69777702ea"
      },
      "source": [
        "plt.plot(fc.losses)\r\n",
        "plt.plot(fc.val_losses)\r\n",
        "plt.ylabel('loss')\r\n",
        "plt.xlabel('iteration')\r\n",
        "plt.legend(['train_loss', 'val_loss'])\r\n",
        "plt.show()"
      ],
      "execution_count": 15,
      "outputs": [
        {
          "output_type": "display_data",
          "data": {
            "image/png": "[encoded data removed]",
            "text/plain": [
              "<Figure size 432x288 with 1 Axes>"
            ]
          },
          "metadata": {
            "tags": [],
            "needs_background": "light"
          }
        }
      ]
    },
    {
      "cell_type": "code",
      "metadata": {
        "colab": {
          "base_uri": "https://localhost:8080/"
        },
        "id": "zXQPcFhgUFOq",
        "outputId": "465ac29a-0b0b-477c-d170-7badd711b4d7"
      },
      "source": [
        "fc.score(x_val, y_val_encoded)"
      ],
      "execution_count": 16,
      "outputs": [
        {
          "output_type": "execute_result",
          "data": {
            "text/plain": [
              "0.8150833333333334"
            ]
          },
          "metadata": {
            "tags": []
          },
          "execution_count": 16
        }
      ]
    },
    {
      "cell_type": "markdown",
      "metadata": {
        "id": "JEI3Lmh00-w-"
      },
      "source": [
        "## Tensorflow와 keras 사용해 신경망 구축\r\n",
        "> keras: 딥러닝 패키지를 편리하게 사용하기 위해 만들어진 Wrapper 패키지로 텐서플로우나 씨아노 등을 편리하게 사용할 수 있다."
      ]
    },
    {
      "cell_type": "markdown",
      "metadata": {
        "id": "z6D7ABt216Uc"
      },
      "source": [
        "### 간단한 신경망을 텐서플로우와 케라스로 구현\r\n",
        "```\r\n",
        "import tensorflow as tf\r\n",
        "\r\n",
        "# 훈련할 가중치 변수 선언\r\n",
        "w = tf.Variable(tf.zeros(shape=(1)))\r\n",
        "b = tf.Variable(tf.zeros(shape=(1)))\r\n",
        "\r\n",
        "# 경사하강법 옵티마이저 설정\r\n",
        "optimizer = tf.optimizers.SGD(lr = 0.01)\r\n",
        "\r\n",
        "# 에폭 횟수만큼 훈련\r\n",
        "num_epochs = 10\r\n",
        "for step in range(num_epochs):\r\n",
        "    # 자동 미분(주어진 입력 변수에 대한 연산의 gradient를 계산하는 것)을 위한 연산 과정 기록\r\n",
        "    # GradientTape: 자동 미분을 위한 API로 context 안에서 실행된 모든 연산을 tape에 기록\r\n",
        "    with tf.GradientTape() as tape:\r\n",
        "        z_net = w * x_train + b\r\n",
        "        z_net = tf.reshape(z_net, [-1])\r\n",
        "        sqr_errors = tf.square(y_train - z_net)\r\n",
        "        mwan_cost = tf.reduce_mean(sqr_errors)\r\n",
        "    # 손실함수에 대한 가중치의 gradient계산 \r\n",
        "    grads = tape.gradient(mean_cost, [w, b])\r\n",
        "    # 옵티마이저에 gradient반영\r\n",
        "    optimizer.apply_gradients(zip(grads, [w, b]))\r\n",
        "```\r\n",
        "이러한 긴 과정을 케라스를 이용하면 아래와 같이 간단하게 구현할 수 있다.\r\n",
        "```\r\n",
        "# 신경망 모델 만듦\r\n",
        "model = tf.keras.models.Sequential()\r\n",
        "# 완전 연결층 추가\r\n",
        "model.add(tf.keras.layers.Dense(1))\r\n",
        "# 옵티마이저와 손실함수 지정\r\n",
        "model.compile(optimizer='sgd', loss='mse')\r\n",
        "# 훈련 데이터를 사용해 에폭 횟수만큼 훈련\r\n",
        "model.fit(x_train, y_train, epochs=10)\r\n",
        "```  \r\n",
        "---  \r\n",
        "이와 같이 케라스를 사용하면 직관적으로 인공신경망의 층을 설계할 수 있다. 모델과 층이 명확하게 구분된다는 것이다.\r\n",
        "- Sequential 클래스: 순차적으로 층을 쌓은 신경망 모델\r\n",
        "    - 사용 방법 1. 클래스의 객체를 생성할 때 층을 추가하는 방법\r\n",
        "        ```\r\n",
        "        from tensorflow.keras import Sequential\r\n",
        "        from tensorflow.keras.layers import Dense\r\n",
        "        model = Sequential([Dense(...), ...])\r\n",
        "        ```\r\n",
        "    - 사용 방법 2. 클래스의 객체를 생성한 후 add() 메서드를 사용해 층을  추가하는 방법\r\n",
        "        ```\r\n",
        "        dense = Dense(...)\r\n",
        "        model.add(dense)\r\n",
        "        ```\r\n",
        "        ```\r\n",
        "        moodel = Sequential()\r\n",
        "        model.add(Dense(...))\r\n",
        "        model.add(Dense(...))\r\n",
        "        ```\r\n",
        "- Dense 클래스: 모델에 포함될 완전 연결층\r\n",
        "    - unit: 층의 유닛 개수\r\n",
        "    - activation: 기본값은 None. sigmoid, tanh, relu등을 지정할 수 있다.\r\n",
        "    - kernel_initializer: 가중치 규제\r\n",
        "\r\n",
        "---\r\n",
        "### 최적화 알고리즘과 손실 함수 설정\r\n",
        "- 최적화 알고리즘 지정\r\n",
        "```\r\n",
        "# sgd: 경사 하강법, 학습률 기본 값=0.01\r\n",
        "model.compile(optimizer='sgd', ...)\r\n",
        "```\r\n",
        "- 손실 함수 지정\r\n",
        "```\r\n",
        "# 제곱 오차: mse...\r\n",
        "# 로지스틱 손실: binary_crossentropy...\r\n",
        "# 다중 분류: categorical_crossentropy...\r\n",
        "model.compile(optimizer='sgd', loss='categorical_crossentropy')\r\n",
        "```\r\n",
        "---\r\n",
        "### 모댈 훈련 및 예측\r\n",
        "- 훈련 fit → 예측 predict → 평가 evaluate\r\n",
        "```\r\n",
        "model = Sequential()\r\n",
        "model.add(Dense(...))\r\n",
        "model.add(Dense(...))\r\n",
        "model.compile(optimizer='...', loss'...')\r\n",
        "model.fit(x, y, epochs=...)\r\n",
        "model.predict(x)\r\n",
        "model.evaluate(x, y)\r\n",
        "```\r\n",
        "---\r\n",
        "### 케라스로 다중 분류 신경망 만들기\r\n",
        "1. 모델 생성하기\r\n",
        "2. 은닉층과 출력층을 모델에 추가하기\r\n",
        "3. 최적화 알고리즘과 손실 함수 지정하기\r\n",
        "    - metrics: 훈련 과정 기록으로 정확도를 남기기 위함이다. 값을 설정하지 않으면 loss값이 기록된다. 모델의 정확도를 보고싶으면 accuracy를 매개변수로 넣어주면 된다.\r\n",
        "4. 모델 훈련하기\r\n",
        "5. 손실과 정확도 그래프 그리기\r\n",
        "6. 검증 셋 정확도 계산하기\r\n",
        "    - evaluate: 손실값과 metrics 매개변수에 추가한 측정 지표를 계산해 반환"
      ]
    },
    {
      "cell_type": "code",
      "metadata": {
        "id": "_QUfD-1vWY2-",
        "colab": {
          "base_uri": "https://localhost:8080/"
        },
        "outputId": "85e5e12e-3172-41a5-fd50-18e5c6665ed8"
      },
      "source": [
        "# 1\r\n",
        "from tensorflow.keras import Sequential\r\n",
        "from tensorflow.keras.layers import Dense\r\n",
        "\r\n",
        "model = Sequential()\r\n",
        "\r\n",
        "# 2\r\n",
        "model.add(Dense(100, activation='sigmoid', input_shape=(784,)))\r\n",
        "model.add(Dense(10, activation='softmax'))\r\n",
        "\r\n",
        "# 3\r\n",
        "model.compile(optimizer='sgd', loss='categorical_crossentropy', metrics=['accuracy'])\r\n",
        "\r\n",
        "# 4\r\n",
        "history = model.fit(x_train, y_train_encoded, epochs=40, validation_data=(x_val, y_val_encoded))"
      ],
      "execution_count": 20,
      "outputs": [
        {
          "output_type": "stream",
          "text": [
            "Epoch 1/40\n",
            "1500/1500 [==============================] - 4s 3ms/step - loss: 1.7750 - accuracy: 0.5276 - val_loss: 0.9676 - val_accuracy: 0.7305\n",
            "Epoch 2/40\n",
            "1500/1500 [==============================] - 4s 2ms/step - loss: 0.8974 - accuracy: 0.7357 - val_loss: 0.7508 - val_accuracy: 0.7571\n",
            "Epoch 3/40\n",
            "1500/1500 [==============================] - 3s 2ms/step - loss: 0.7300 - accuracy: 0.7647 - val_loss: 0.6628 - val_accuracy: 0.7802\n",
            "Epoch 4/40\n",
            "1500/1500 [==============================] - 3s 2ms/step - loss: 0.6592 - accuracy: 0.7777 - val_loss: 0.6127 - val_accuracy: 0.7931\n",
            "Epoch 5/40\n",
            "1500/1500 [==============================] - 3s 2ms/step - loss: 0.6115 - accuracy: 0.7924 - val_loss: 0.5763 - val_accuracy: 0.8032\n",
            "Epoch 6/40\n",
            "1500/1500 [==============================] - 4s 2ms/step - loss: 0.5831 - accuracy: 0.8031 - val_loss: 0.5513 - val_accuracy: 0.8113\n",
            "Epoch 7/40\n",
            "1500/1500 [==============================] - 4s 2ms/step - loss: 0.5511 - accuracy: 0.8100 - val_loss: 0.5306 - val_accuracy: 0.8164\n",
            "Epoch 8/40\n",
            "1500/1500 [==============================] - 4s 2ms/step - loss: 0.5408 - accuracy: 0.8119 - val_loss: 0.5142 - val_accuracy: 0.8219\n",
            "Epoch 9/40\n",
            "1500/1500 [==============================] - 3s 2ms/step - loss: 0.5212 - accuracy: 0.8196 - val_loss: 0.5013 - val_accuracy: 0.8262\n",
            "Epoch 10/40\n",
            "1500/1500 [==============================] - 3s 2ms/step - loss: 0.5125 - accuracy: 0.8233 - val_loss: 0.4912 - val_accuracy: 0.8279\n",
            "Epoch 11/40\n",
            "1500/1500 [==============================] - 3s 2ms/step - loss: 0.5026 - accuracy: 0.8264 - val_loss: 0.4805 - val_accuracy: 0.8310\n",
            "Epoch 12/40\n",
            "1500/1500 [==============================] - 3s 2ms/step - loss: 0.4933 - accuracy: 0.8300 - val_loss: 0.4727 - val_accuracy: 0.8332\n",
            "Epoch 13/40\n",
            "1500/1500 [==============================] - 4s 2ms/step - loss: 0.4825 - accuracy: 0.8343 - val_loss: 0.4698 - val_accuracy: 0.8349\n",
            "Epoch 14/40\n",
            "1500/1500 [==============================] - 4s 2ms/step - loss: 0.4736 - accuracy: 0.8345 - val_loss: 0.4607 - val_accuracy: 0.8382\n",
            "Epoch 15/40\n",
            "1500/1500 [==============================] - 4s 2ms/step - loss: 0.4689 - accuracy: 0.8385 - val_loss: 0.4548 - val_accuracy: 0.8389\n",
            "Epoch 16/40\n",
            "1500/1500 [==============================] - 3s 2ms/step - loss: 0.4588 - accuracy: 0.8419 - val_loss: 0.4507 - val_accuracy: 0.8391\n",
            "Epoch 17/40\n",
            "1500/1500 [==============================] - 4s 2ms/step - loss: 0.4600 - accuracy: 0.8402 - val_loss: 0.4447 - val_accuracy: 0.8416\n",
            "Epoch 18/40\n",
            "1500/1500 [==============================] - 3s 2ms/step - loss: 0.4569 - accuracy: 0.8413 - val_loss: 0.4401 - val_accuracy: 0.8428\n",
            "Epoch 19/40\n",
            "1500/1500 [==============================] - 3s 2ms/step - loss: 0.4457 - accuracy: 0.8441 - val_loss: 0.4345 - val_accuracy: 0.8462\n",
            "Epoch 20/40\n",
            "1500/1500 [==============================] - 3s 2ms/step - loss: 0.4491 - accuracy: 0.8404 - val_loss: 0.4312 - val_accuracy: 0.8463\n",
            "Epoch 21/40\n",
            "1500/1500 [==============================] - 3s 2ms/step - loss: 0.4393 - accuracy: 0.8460 - val_loss: 0.4287 - val_accuracy: 0.8474\n",
            "Epoch 22/40\n",
            "1500/1500 [==============================] - 4s 2ms/step - loss: 0.4399 - accuracy: 0.8442 - val_loss: 0.4252 - val_accuracy: 0.8490\n",
            "Epoch 23/40\n",
            "1500/1500 [==============================] - 4s 3ms/step - loss: 0.4319 - accuracy: 0.8501 - val_loss: 0.4216 - val_accuracy: 0.8513\n",
            "Epoch 24/40\n",
            "1500/1500 [==============================] - 4s 3ms/step - loss: 0.4354 - accuracy: 0.8468 - val_loss: 0.4191 - val_accuracy: 0.8503\n",
            "Epoch 25/40\n",
            "1500/1500 [==============================] - 4s 2ms/step - loss: 0.4279 - accuracy: 0.8490 - val_loss: 0.4162 - val_accuracy: 0.8517\n",
            "Epoch 26/40\n",
            "1500/1500 [==============================] - 3s 2ms/step - loss: 0.4243 - accuracy: 0.8520 - val_loss: 0.4133 - val_accuracy: 0.8539\n",
            "Epoch 27/40\n",
            "1500/1500 [==============================] - 4s 3ms/step - loss: 0.4153 - accuracy: 0.8539 - val_loss: 0.4109 - val_accuracy: 0.8562\n",
            "Epoch 28/40\n",
            "1500/1500 [==============================] - 4s 3ms/step - loss: 0.4200 - accuracy: 0.8533 - val_loss: 0.4099 - val_accuracy: 0.8542\n",
            "Epoch 29/40\n",
            "1500/1500 [==============================] - 4s 3ms/step - loss: 0.4116 - accuracy: 0.8527 - val_loss: 0.4079 - val_accuracy: 0.8557\n",
            "Epoch 30/40\n",
            "1500/1500 [==============================] - 4s 2ms/step - loss: 0.4107 - accuracy: 0.8549 - val_loss: 0.4045 - val_accuracy: 0.8592\n",
            "Epoch 31/40\n",
            "1500/1500 [==============================] - 4s 2ms/step - loss: 0.4066 - accuracy: 0.8583 - val_loss: 0.4037 - val_accuracy: 0.8576\n",
            "Epoch 32/40\n",
            "1500/1500 [==============================] - 4s 2ms/step - loss: 0.4049 - accuracy: 0.8572 - val_loss: 0.4012 - val_accuracy: 0.8573\n",
            "Epoch 33/40\n",
            "1500/1500 [==============================] - 3s 2ms/step - loss: 0.4035 - accuracy: 0.8591 - val_loss: 0.3985 - val_accuracy: 0.8577\n",
            "Epoch 34/40\n",
            "1500/1500 [==============================] - 3s 2ms/step - loss: 0.4051 - accuracy: 0.8580 - val_loss: 0.3966 - val_accuracy: 0.8608\n",
            "Epoch 35/40\n",
            "1500/1500 [==============================] - 3s 2ms/step - loss: 0.3951 - accuracy: 0.8595 - val_loss: 0.3958 - val_accuracy: 0.8594\n",
            "Epoch 36/40\n",
            "1500/1500 [==============================] - 3s 2ms/step - loss: 0.3998 - accuracy: 0.8576 - val_loss: 0.3931 - val_accuracy: 0.8612\n",
            "Epoch 37/40\n",
            "1500/1500 [==============================] - 3s 2ms/step - loss: 0.3989 - accuracy: 0.8595 - val_loss: 0.3932 - val_accuracy: 0.8619\n",
            "Epoch 38/40\n",
            "1500/1500 [==============================] - 4s 3ms/step - loss: 0.3964 - accuracy: 0.8589 - val_loss: 0.3901 - val_accuracy: 0.8615\n",
            "Epoch 39/40\n",
            "1500/1500 [==============================] - 4s 3ms/step - loss: 0.3872 - accuracy: 0.8625 - val_loss: 0.3909 - val_accuracy: 0.8613\n",
            "Epoch 40/40\n",
            "1500/1500 [==============================] - 3s 2ms/step - loss: 0.3881 - accuracy: 0.8645 - val_loss: 0.3873 - val_accuracy: 0.8622\n"
          ],
          "name": "stdout"
        }
      ]
    },
    {
      "cell_type": "code",
      "metadata": {
        "colab": {
          "base_uri": "https://localhost:8080/"
        },
        "id": "pex77o8bt9vr",
        "outputId": "e9a16f3b-c481-4393-c773-907821e52251"
      },
      "source": [
        "# 5\r\n",
        "# 어떤 측정 지표들이 들어있는지 확인\r\n",
        "print(history.history.keys())\r\n",
        "# loss, accuracy: 훈련셋의 손실과 정확도\r\n",
        "# val_loss, val_accuracy: 검증셋의 손실과 정확도"
      ],
      "execution_count": 22,
      "outputs": [
        {
          "output_type": "stream",
          "text": [
            "dict_keys(['loss', 'accuracy', 'val_loss', 'val_accuracy'])\n"
          ],
          "name": "stdout"
        }
      ]
    },
    {
      "cell_type": "code",
      "metadata": {
        "colab": {
          "base_uri": "https://localhost:8080/",
          "height": 541
        },
        "id": "-NTPkUk0uq0j",
        "outputId": "6b730d53-5709-4ebb-8198-6f315644f57e"
      },
      "source": [
        "plt.plot(history.history['loss'])\r\n",
        "plt.plot(history.history['val_loss'])\r\n",
        "plt.ylabel('loss')\r\n",
        "plt.xlabel('epoch')\r\n",
        "plt.legend(['train_loss', 'val_loss'])\r\n",
        "plt.show()\r\n",
        "\r\n",
        "plt.plot(history.history['accuracy'])\r\n",
        "plt.plot(history.history['val_accuracy'])\r\n",
        "plt.ylabel('loss')\r\n",
        "plt.xlabel('epoch')\r\n",
        "plt.legend(['train_accuracy', 'val_accuracy'])\r\n",
        "plt.show()"
      ],
      "execution_count": 23,
      "outputs": [
        {
          "output_type": "display_data",
          "data": {
            "image/png": "[encoded data removed]",
            "text/plain": [
              "<Figure size 432x288 with 1 Axes>"
            ]
          },
          "metadata": {
            "tags": [],
            "needs_background": "light"
          }
        },
        {
          "output_type": "display_data",
          "data": {
            "image/png": "[encoded data removed]",
            "text/plain": [
              "<Figure size 432x288 with 1 Axes>"
            ]
          },
          "metadata": {
            "tags": [],
            "needs_background": "light"
          }
        }
      ]
    },
    {
      "cell_type": "code",
      "metadata": {
        "colab": {
          "base_uri": "https://localhost:8080/"
        },
        "id": "k6Jjt7lgvTox",
        "outputId": "9b66e176-e229-4f3e-dc52-a1d6c1c2cfa8"
      },
      "source": [
        "# 6\r\n",
        "loss, accuracy = model.evaluate(x_val, y_val_encoded, verbose=0)\r\n",
        "print(accuracy)"
      ],
      "execution_count": 24,
      "outputs": [
        {
          "output_type": "stream",
          "text": [
            "0.8621666431427002\n"
          ],
          "name": "stdout"
        }
      ]
    }
  ]
}